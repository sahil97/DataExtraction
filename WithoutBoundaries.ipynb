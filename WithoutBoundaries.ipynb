{
 "cells": [
  {
   "cell_type": "code",
   "execution_count": 53,
   "metadata": {},
   "outputs": [],
   "source": [
    "# !pip install pandas\n",
    "# !pip install numpy\n",
    "# !pip install tabula"
   ]
  },
  {
   "cell_type": "code",
   "execution_count": 1,
   "metadata": {},
   "outputs": [],
   "source": [
    "import pandas as pd\n",
    "import numpy as np\n",
    "import tabula\n",
    "import math\n",
    "from PIL import Image \n",
    "import os \n",
    "import img2pdf"
   ]
  },
  {
   "cell_type": "code",
   "execution_count": 3,
   "metadata": {},
   "outputs": [],
   "source": [
    "# templates = {\n",
    "#     'page1': (204.91, 33.138, 811.816, 570.86),\n",
    "#     'page2': (107.49, 36.113, 800.672, 563.43)\n",
    "# }\n",
    "# pages = 6\n",
    "# default_columns = ['Post', 'Beskrivelse', 'Enh.', 'Mengde', 'Enhetspris', 'Sum']"
   ]
  },
  {
   "cell_type": "code",
   "execution_count": 15,
   "metadata": {},
   "outputs": [
    {
     "name": "stdout",
     "output_type": "stream",
     "text": [
      "Successfully made pdf file\n"
     ]
    }
   ],
   "source": [
    "# storing image path \n",
    "img_path = \"cropped/2.png\"\n",
    "  \n",
    "# storing pdf path \n",
    "pdf_path = \"2.pdf\"\n",
    "\n",
    "# opening image \n",
    "image = Image.open(img_path) \n",
    "  \n",
    "# converting into chunks using img2pdf \n",
    "pdf_bytes = img2pdf.convert(image.filename, dpi=200) \n",
    "  \n",
    "# opening or creating pdf file \n",
    "file = open(pdf_path, \"wb\") \n",
    "  \n",
    "# writing pdf files with chunks \n",
    "file.write(pdf_bytes) \n",
    "  \n",
    "# closing image file \n",
    "image.close() \n",
    "  \n",
    "# closing pdf file \n",
    "file.close() \n",
    "  \n",
    "# output \n",
    "print(\"Successfully made pdf file\")"
   ]
  },
  {
   "cell_type": "code",
   "execution_count": 16,
   "metadata": {},
   "outputs": [
    {
     "name": "stderr",
     "output_type": "stream",
     "text": [
      "WARNING:tabula.wrapper:The output file is empty.\n"
     ]
    }
   ],
   "source": [
    "# df_final = pd.DataFrame(columns = default_columns)\n",
    "    \n",
    "#     if(i == 1):\n",
    "df = tabula.read_pdf('2.pdf', pages=1)\n",
    "\n",
    "# # Error correction for column names\n",
    "# df['Post'] = df['Unnamed: 0']\n",
    "# df.drop(['Unnamed: 0'], axis=1, inplace=True)\n",
    "\n",
    "# df['Sum'] = df['Unnamed: 7']\n",
    "# df.drop(['Unnamed: 7'], axis=1, inplace=True)\n",
    "\n",
    "# df_final_temp = extract_columns(df)\n",
    "# df_final = pd.concat([df_final, df_final_temp])"
   ]
  },
  {
   "cell_type": "code",
   "execution_count": null,
   "metadata": {},
   "outputs": [],
   "source": []
  },
  {
   "cell_type": "code",
   "execution_count": 9,
   "metadata": {},
   "outputs": [],
   "source": [
    "df"
   ]
  },
  {
   "cell_type": "code",
   "execution_count": 13,
   "metadata": {},
   "outputs": [],
   "source": []
  },
  {
   "cell_type": "code",
   "execution_count": 4,
   "metadata": {},
   "outputs": [],
   "source": [
    "def extract_columns(df):\n",
    "    sorted_indexes = handle_sort(df)\n",
    "\n",
    "    df_new = get_new_df(df, sorted_indexes)\n",
    "    \n",
    "    return df_new"
   ]
  },
  {
   "cell_type": "code",
   "execution_count": 5,
   "metadata": {},
   "outputs": [],
   "source": [
    "def handle_sort(df):\n",
    "    # Correction for Sorting\n",
    "    for post in df['Post'].value_counts().keys():\n",
    "        if(len(post.split('.')) < 4):\n",
    "            df['Post'][df.index[df['Post'] == post][0]] += '.00'\n",
    "\n",
    "    sorted_indexes = list(df['Post'].value_counts().keys())\n",
    "    sorted_indexes.sort()\n",
    "    return sorted_indexes"
   ]
  },
  {
   "cell_type": "code",
   "execution_count": 6,
   "metadata": {},
   "outputs": [],
   "source": [
    "def get_new_df(df, sorted_indexes):\n",
    "    \n",
    "    \n",
    "    # Making the dataframe index_wise\n",
    "\n",
    "    df_new = pd.DataFrame()\n",
    "    df_new[df.columns[0]] = list(sorted_indexes)\n",
    "    \n",
    "    \n",
    "    # Variables for holding temp values that will be later assigned to the dataFrame\n",
    "\n",
    "    sentence_list = []\n",
    "    list_dict = {}\n",
    "\n",
    "    for i in range(2, len(df.columns)):\n",
    "        list_dict[df.columns[i]] = []\n",
    "\n",
    "\n",
    "    # Traversing through the read file from tabula\n",
    "    for i in range(len(sorted_indexes)):\n",
    "\n",
    "        sentence_list.append([])\n",
    "\n",
    "        for k in range(2, len(df.columns)):\n",
    "            list_dict[df.columns[k]].append(' ')\n",
    "\n",
    "    # For the first n-1 lines  \n",
    "        if(i+1 < len(sorted_indexes)):\n",
    "\n",
    "    # Getting all rows between 2 consecutive indexes such as (12.0.1, 12.0.1.01) etc.\n",
    "            i1 = df.index[df['Post'] == sorted_indexes[i]][0]\n",
    "            i2 = df.index[df['Post'] == sorted_indexes[i+1]][0]\n",
    "\n",
    "            for j in range(i1, i2):\n",
    "\n",
    "    # Adding a new line after\n",
    "                sentence_list[i].append(df[df.columns[1]][j] + \" \\n\")\n",
    "\n",
    "    # Handling rest of the value columns\n",
    "                for k in range(2, len(df.columns)):\n",
    "                    if(type(df[df.columns[k]][j]) == str):\n",
    "                        list_dict[df.columns[k]][i] = df[df.columns[k]][j]        \n",
    "\n",
    "            sentence_list[i] = \" \".join(sentence_list[i])\n",
    "\n",
    "    # For the last line\n",
    "        elif(i+1 >= len(sorted_indexes)):\n",
    "\n",
    "            i1 = df.index[df['Post'] == sorted_indexes[i]][0]\n",
    "            i2 = len(df)\n",
    "\n",
    "            for j in range(i1, i2):\n",
    "\n",
    "    # Adding a new line after\n",
    "                sentence_list[i].append(df[df.columns[1]][j] + \" \\n\")\n",
    "\n",
    "                for k in range(2, len(df.columns)):\n",
    "                    if(type(df[df.columns[k]][j]) == str):\n",
    "                        list_dict[df.columns[k]][i] = df[df.columns[k]][j]        \n",
    "\n",
    "            sentence_list[i] = \" \".join(sentence_list[i]) \n",
    "\n",
    "\n",
    "    df_new[df.columns[1]] = sentence_list\n",
    "    for k in range(2, len(df.columns)):\n",
    "            df_new[df.columns[k]] = list_dict[df.columns[k]]\n",
    "            \n",
    "    return df_new"
   ]
  }
 ],
 "metadata": {
  "kernelspec": {
   "display_name": "dlaas",
   "language": "python",
   "name": "dlaas"
  },
  "language_info": {
   "codemirror_mode": {
    "name": "ipython",
    "version": 3
   },
   "file_extension": ".py",
   "mimetype": "text/x-python",
   "name": "python",
   "nbconvert_exporter": "python",
   "pygments_lexer": "ipython3",
   "version": "3.5.2"
  }
 },
 "nbformat": 4,
 "nbformat_minor": 2
}
