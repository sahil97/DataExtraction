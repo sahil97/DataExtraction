{
 "cells": [
  {
   "cell_type": "code",
   "execution_count": 1,
   "metadata": {},
   "outputs": [],
   "source": [
    "import pandas as pd\n",
    "import numpy as np\n",
    "import tabula\n",
    "import math"
   ]
  },
  {
   "cell_type": "code",
   "execution_count": 2,
   "metadata": {},
   "outputs": [],
   "source": [
    "def form_sentence(df):\n",
    "    temp_sentence = ''\n",
    "    for i in range(len(df.values)):\n",
    "        if( i != 0):\n",
    "            temp_sentence += ', ' + df.values[i][0]\n",
    "        else:\n",
    "            temp_sentence += df.values[i][0]\n",
    "    return temp_sentence\n",
    "\n",
    "def form_dates_time(df):\n",
    "    date_time_list = []\n",
    "    date_time_list.append(\n",
    "        {\n",
    "            df.keys()[0] : df.keys()[1]\n",
    "        }\n",
    "    )\n",
    "    for key,value in df.values:\n",
    "        date_time_list.append(\n",
    "            {\n",
    "                key : value\n",
    "            }\n",
    "        )\n",
    "    return date_time_list\n",
    "\n",
    "def extract_from_keywords(df):\n",
    "    keywords = ['Weight', 'Loadmeter', 'Goods']\n",
    "    return_list = []\n",
    "    for row in df.values.tolist():\n",
    "        for keyword in keywords:\n",
    "            if keyword in str(row[0]):\n",
    "                try:\n",
    "                    return_list.append({\n",
    "                       row[0].split(':')[0] : row[0].split(':')[1]\n",
    "                    })\n",
    "                except Exception as e:\n",
    "                    continue\n",
    "    return return_list\n",
    "\n",
    "def extract_goods_list(df):\n",
    "    temp_df = df.copy()\n",
    "    temp_df['Product'] = temp_df['Unnamed: 1']\n",
    "    temp_df.drop(['Unnamed: 1'], axis=1, inplace=True)\n",
    "    return temp_df.to_dict(orient='records')[0]"
   ]
  },
  {
   "cell_type": "code",
   "execution_count": 3,
   "metadata": {},
   "outputs": [],
   "source": [
    "specs = pd.read_json('tabula-transport order 201909015374 (1).json')"
   ]
  },
  {
   "cell_type": "code",
   "execution_count": 8,
   "metadata": {},
   "outputs": [],
   "source": [
    "df_list = []\n",
    "for i in range(len(specs)):\n",
    "    df = tabula.read_pdf(\"1.PDF\", pages='1', area=(specs.iloc[i]['y1'], specs.iloc[i]['x1'], specs.iloc[i]['y2'], specs.iloc[i]['x2']))\n",
    "    df_list.append(df)"
   ]
  },
  {
   "cell_type": "code",
   "execution_count": 9,
   "metadata": {},
   "outputs": [],
   "source": [
    "packagedesc = []\n",
    "\n",
    "packagedesc.append(\n",
    "    { \n",
    "        df_list[1].keys()[0] : df_list[1].keys()[1] \n",
    "    }\n",
    ")\n",
    "\n",
    "\n",
    "packagedesc.append(\n",
    "    {\n",
    "            'Pickup Address': form_sentence(df_list[4])\n",
    "    }\n",
    ")\n",
    "\n",
    "\n",
    "packagedesc.append(\n",
    "    {\n",
    "            'Delivery Address': form_sentence(df_list[6])\n",
    "    }\n",
    ")\n",
    "\n",
    "packagedesc.extend(form_dates_time(df_list[5]))\n",
    "\n",
    "packagedesc.extend(extract_from_keywords(df_list[7]))\n",
    "\n",
    "\n",
    "packagedesc.append(\n",
    "    {\n",
    "            'Goods Table': extract_goods_list(df_list[9])\n",
    "    }\n",
    ")\n",
    "\n",
    "\n",
    "packagedesc.append(\n",
    "    {\n",
    "            'Remarks': form_sentence(df_list[10])\n",
    "    }\n",
    ")\n"
   ]
  },
  {
   "cell_type": "code",
   "execution_count": 10,
   "metadata": {},
   "outputs": [
    {
     "data": {
      "text/plain": [
       "[{'Customer Ref.:': 'CMO 191454'},\n",
       " {'Pickup Address': 'De Vrij, Noordkade 64, 2741 EZ Waddinxveen, Netherlands'},\n",
       " {'Delivery Address': 'Bowker Group - York, Hunter Drive Elvington, Airfield Industrial Estate, YO41 4AU York, United Kingdom'},\n",
       " {'Pickup Date:': '1-10-2019'},\n",
       " {'Pickup Time:': '08:00 untill 16:00'},\n",
       " {'Delivery Date:': '3-10-2019'},\n",
       " {'Delivery Time:': '08:00 untill 16:00'},\n",
       " {'Weight': ' 2000 kgs'},\n",
       " {'Loadmeter': ' 1.2 mtr'},\n",
       " {'Goods': ' Foodstuffs'},\n",
       " {'Goods Table': {'Goods': 2,\n",
       "   'Height (cm)': nan,\n",
       "   'Length (cm)': 120,\n",
       "   'Product': 'PALLET (PX)',\n",
       "   'Width (cm)': 120}},\n",
       " {'Remarks': 'Als er voedingsmiddelen op deze locatie geladen wordt mag dit niet, in dezelfde trailer als ADR / Sterk geurende specerijen / etc, Schone, reukloze auto !'}]"
      ]
     },
     "execution_count": 10,
     "metadata": {},
     "output_type": "execute_result"
    }
   ],
   "source": [
    "packagedesc"
   ]
  },
  {
   "cell_type": "code",
   "execution_count": null,
   "metadata": {},
   "outputs": [],
   "source": []
  }
 ],
 "metadata": {
  "kernelspec": {
   "display_name": "dlaas",
   "language": "python",
   "name": "dlaas"
  },
  "language_info": {
   "codemirror_mode": {
    "name": "ipython",
    "version": 3
   },
   "file_extension": ".py",
   "mimetype": "text/x-python",
   "name": "python",
   "nbconvert_exporter": "python",
   "pygments_lexer": "ipython3",
   "version": "3.5.2"
  }
 },
 "nbformat": 4,
 "nbformat_minor": 2
}
