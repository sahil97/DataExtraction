{
 "cells": [
  {
   "cell_type": "code",
   "execution_count": 232,
   "metadata": {},
   "outputs": [],
   "source": [
    "# !pip install pandas\n",
    "# !pip install numpy\n",
    "# !pip install tabula"
   ]
  },
  {
   "cell_type": "code",
   "execution_count": 255,
   "metadata": {},
   "outputs": [],
   "source": [
    "import pandas as pd\n",
    "import numpy as np\n",
    "import tabula\n",
    "import math"
   ]
  },
  {
   "cell_type": "code",
   "execution_count": 256,
   "metadata": {},
   "outputs": [],
   "source": [
    "templates = {\n",
    "    'page1': (204.91, 33.138, 811.816, 570.86),\n",
    "    'page2': (107.49, 36.113, 800.672, 563.43)\n",
    "}"
   ]
  },
  {
   "cell_type": "code",
   "execution_count": 269,
   "metadata": {},
   "outputs": [],
   "source": [
    "df = tabula.read_pdf('MyExport.pdf', pages='1', area=templates['page1'])"
   ]
  },
  {
   "cell_type": "code",
   "execution_count": 270,
   "metadata": {},
   "outputs": [
    {
     "data": {
      "text/plain": [
       "Index(['Unnamed: 0', 'Post', 'Beskrivelse', 'Enh.', 'Mengde', 'Enhetspris',\n",
       "       'Sum', 'Unnamed: 7'],\n",
       "      dtype='object')"
      ]
     },
     "execution_count": 270,
     "metadata": {},
     "output_type": "execute_result"
    }
   ],
   "source": [
    "df.columns"
   ]
  },
  {
   "cell_type": "code",
   "execution_count": 258,
   "metadata": {},
   "outputs": [],
   "source": [
    "# Error correction for column names\n",
    "\n",
    "df['Post'] = df['Unnamed: 0']\n",
    "df.drop(['Unnamed: 0'], axis=1, inplace=True)\n",
    "\n",
    "df['Sum'] = df['Unnamed: 7']\n",
    "df.drop(['Unnamed: 7'], axis=1, inplace=True)"
   ]
  },
  {
   "cell_type": "code",
   "execution_count": 259,
   "metadata": {},
   "outputs": [],
   "source": [
    "# Correction for Sorting\n",
    "\n",
    "for post in df['Post'].value_counts().keys():\n",
    "    if(len(post.split('.')) < 4):\n",
    "        df['Post'][df.index[df['Post'] == post][0]] += '.00'\n",
    "\n",
    "orted_indexes = list(df['Post'].value_counts().keys())\n",
    "sorted_indexes.sort()"
   ]
  },
  {
   "cell_type": "code",
   "execution_count": 260,
   "metadata": {},
   "outputs": [],
   "source": [
    "# Making the dataframe index_wise\n",
    "\n",
    "df_new = pd.DataFrame()\n",
    "df_new[df.columns[0]] = list(sorted_indexes)"
   ]
  },
  {
   "cell_type": "code",
   "execution_count": 261,
   "metadata": {},
   "outputs": [],
   "source": [
    "\n",
    "# Variables for holding temp values that will be later assigned to the dataFrame\n",
    "\n",
    "sentence_list = []\n",
    "list_dict = {}\n",
    "\n",
    "for i in range(2, len(df.columns)):\n",
    "    list_dict[df.columns[i]] = []\n",
    "\n",
    "    \n",
    "# Traversing through the read file from tabula\n",
    "for i in range(len(sorted_indexes)):\n",
    "    \n",
    "    sentence_list.append([])\n",
    "    \n",
    "    for k in range(2, len(df.columns)):\n",
    "        list_dict[df.columns[k]].append(' ')\n",
    "    \n",
    "# For the first n-1 lines  \n",
    "    if(i+1 < len(sorted_indexes)):\n",
    "        \n",
    "# Getting all rows between 2 consecutive indexes such as (12.0.1, 12.0.1.01) etc.\n",
    "        i1 = df.index[df['Post'] == sorted_indexes[i]][0]\n",
    "        i2 = df.index[df['Post'] == sorted_indexes[i+1]][0]\n",
    "        \n",
    "        for j in range(i1, i2):\n",
    "            \n",
    "# Adding a new line after\n",
    "            sentence_list[i].append(df[df.columns[1]][j] + \" \\n\")\n",
    "        \n",
    "# Handling rest of the value columns\n",
    "            for k in range(2, len(df.columns)):\n",
    "                if(type(df[df.columns[k]][j]) == str):\n",
    "                    list_dict[df.columns[k]][i] = df[df.columns[k]][j]        \n",
    "            \n",
    "        sentence_list[i] = \" \".join(sentence_list[i])\n",
    "        \n",
    "# For the last line\n",
    "    elif(i+1 >= len(sorted_indexes)):\n",
    "        \n",
    "        i1 = df.index[df['Post'] == sorted_indexes[i]][0]\n",
    "        i2 = len(df)\n",
    "        \n",
    "        for j in range(i1, i2):\n",
    "            \n",
    "# Adding a new line after\n",
    "            sentence_list[i].append(df[df.columns[1]][j] + \" \\n\")\n",
    "            \n",
    "            for k in range(2, len(df.columns)):\n",
    "                if(type(df[df.columns[k]][j]) == str):\n",
    "                    list_dict[df.columns[k]][i] = df[df.columns[k]][j]        \n",
    "                \n",
    "        sentence_list[i] = \" \".join(sentence_list[i]) \n",
    "        \n",
    "        \n",
    "df_new[df.columns[1]] = sentence_list\n",
    "for k in range(2, len(df.columns)):\n",
    "        df_new[df.columns[k]] = list_dict[df.columns[k]]"
   ]
  },
  {
   "cell_type": "code",
   "execution_count": 262,
   "metadata": {},
   "outputs": [
    {
     "data": {
      "text/html": [
       "<div>\n",
       "<style scoped>\n",
       "    .dataframe tbody tr th:only-of-type {\n",
       "        vertical-align: middle;\n",
       "    }\n",
       "\n",
       "    .dataframe tbody tr th {\n",
       "        vertical-align: top;\n",
       "    }\n",
       "\n",
       "    .dataframe thead th {\n",
       "        text-align: right;\n",
       "    }\n",
       "</style>\n",
       "<table border=\"1\" class=\"dataframe\">\n",
       "  <thead>\n",
       "    <tr style=\"text-align: right;\">\n",
       "      <th></th>\n",
       "      <th>Post</th>\n",
       "      <th>Beskrivelse</th>\n",
       "      <th>Enh.</th>\n",
       "      <th>Mengde</th>\n",
       "      <th>Enhetspris</th>\n",
       "      <th>Sum</th>\n",
       "    </tr>\n",
       "  </thead>\n",
       "  <tbody>\n",
       "    <tr>\n",
       "      <th>0</th>\n",
       "      <td>12.24.1.00</td>\n",
       "      <td>INNERVEGG - TYPE IV-01 \\n leilighetsskillevegg...</td>\n",
       "      <td></td>\n",
       "      <td></td>\n",
       "      <td></td>\n",
       "      <td></td>\n",
       "    </tr>\n",
       "    <tr>\n",
       "      <th>1</th>\n",
       "      <td>12.24.1.01</td>\n",
       "      <td>QK5.31112A IV 01 \\n Komplett leilighetskilleve...</td>\n",
       "      <td>m2</td>\n",
       "      <td>972,00</td>\n",
       "      <td>0,00</td>\n",
       "      <td>0,00</td>\n",
       "    </tr>\n",
       "    <tr>\n",
       "      <th>2</th>\n",
       "      <td>12.24.1.02</td>\n",
       "      <td>PJ3.132122911A IV 02 \\n Komplett lettvegg. \\n ...</td>\n",
       "      <td>m2</td>\n",
       "      <td>1 409,00</td>\n",
       "      <td>0,00</td>\n",
       "      <td>0,00</td>\n",
       "    </tr>\n",
       "    <tr>\n",
       "      <th>3</th>\n",
       "      <td>12.24.1.03</td>\n",
       "      <td>SB1.11299 IV 03 \\n Pocetvegg \\n Komplett brutt...</td>\n",
       "      <td>m2</td>\n",
       "      <td>119,00</td>\n",
       "      <td>0,00</td>\n",
       "      <td>0,00</td>\n",
       "    </tr>\n",
       "    <tr>\n",
       "      <th>4</th>\n",
       "      <td>12.24.1.04</td>\n",
       "      <td>QK5.31112A IV 04 \\n Sjaktvegg \\n Komplett \\n</td>\n",
       "      <td>m2</td>\n",
       "      <td>556,00</td>\n",
       "      <td>0,00</td>\n",
       "      <td>0,00</td>\n",
       "    </tr>\n",
       "    <tr>\n",
       "      <th>5</th>\n",
       "      <td>12.24.1.05</td>\n",
       "      <td>SF3.1000A IV 05 \\n Påforing betong. \\n</td>\n",
       "      <td>m2</td>\n",
       "      <td>510,00</td>\n",
       "      <td>0,00</td>\n",
       "      <td>0,00</td>\n",
       "    </tr>\n",
       "  </tbody>\n",
       "</table>\n",
       "</div>"
      ],
      "text/plain": [
       "         Post                                        Beskrivelse Enh.  \\\n",
       "0  12.24.1.00  INNERVEGG - TYPE IV-01 \\n leilighetsskillevegg...        \n",
       "1  12.24.1.01  QK5.31112A IV 01 \\n Komplett leilighetskilleve...   m2   \n",
       "2  12.24.1.02  PJ3.132122911A IV 02 \\n Komplett lettvegg. \\n ...   m2   \n",
       "3  12.24.1.03  SB1.11299 IV 03 \\n Pocetvegg \\n Komplett brutt...   m2   \n",
       "4  12.24.1.04       QK5.31112A IV 04 \\n Sjaktvegg \\n Komplett \\n   m2   \n",
       "5  12.24.1.05             SF3.1000A IV 05 \\n Påforing betong. \\n   m2   \n",
       "\n",
       "     Mengde Enhetspris   Sum  \n",
       "0                             \n",
       "1    972,00       0,00  0,00  \n",
       "2  1 409,00       0,00  0,00  \n",
       "3    119,00       0,00  0,00  \n",
       "4    556,00       0,00  0,00  \n",
       "5    510,00       0,00  0,00  "
      ]
     },
     "execution_count": 262,
     "metadata": {},
     "output_type": "execute_result"
    }
   ],
   "source": [
    "df_new"
   ]
  },
  {
   "cell_type": "markdown",
   "metadata": {},
   "source": [
    "## Trying for pages 2 and above"
   ]
  },
  {
   "cell_type": "code",
   "execution_count": 292,
   "metadata": {},
   "outputs": [],
   "source": [
    "df = tabula.read_pdf('MyExport.pdf', pages='2', area=templates['page2'])"
   ]
  },
  {
   "cell_type": "code",
   "execution_count": 294,
   "metadata": {},
   "outputs": [],
   "source": [
    "df.columns = ['Post', 'Beskrivelse', 'Enh.', 'Mengde', 'Enhetspris', 'Sum']"
   ]
  },
  {
   "cell_type": "code",
   "execution_count": 299,
   "metadata": {},
   "outputs": [],
   "source": [
    "# Correction for Sorting\n",
    "\n",
    "for post in df['Post'].value_counts().keys():\n",
    "    if(len(post.split('.')) < 4):\n",
    "        df['Post'][df.index[df['Post'] == post][0]] += '.00'\n",
    "\n",
    "sorted_indexes = list(df['Post'].value_counts().keys())\n",
    "sorted_indexes.sort()"
   ]
  },
  {
   "cell_type": "code",
   "execution_count": 300,
   "metadata": {},
   "outputs": [],
   "source": [
    "# Making the dataframe index_wise\n",
    "\n",
    "df_new = pd.DataFrame()\n",
    "df_new[df.columns[0]] = list(sorted_indexes)"
   ]
  },
  {
   "cell_type": "code",
   "execution_count": 301,
   "metadata": {},
   "outputs": [
    {
     "data": {
      "text/plain": [
       "'12.24.1.06'"
      ]
     },
     "execution_count": 301,
     "metadata": {},
     "output_type": "execute_result"
    }
   ],
   "source": [
    "df['Post'].value_counts().keys()[0]"
   ]
  },
  {
   "cell_type": "code",
   "execution_count": 302,
   "metadata": {},
   "outputs": [
    {
     "data": {
      "text/plain": [
       "['12.24.1.06',\n",
       " '12.25.2.00',\n",
       " '12.25.2.01',\n",
       " '12.25.2.02',\n",
       " '12.25.2.03',\n",
       " 'Sum Kapittel.00.00']"
      ]
     },
     "execution_count": 302,
     "metadata": {},
     "output_type": "execute_result"
    }
   ],
   "source": [
    "sorted_indexes"
   ]
  },
  {
   "cell_type": "code",
   "execution_count": 304,
   "metadata": {},
   "outputs": [],
   "source": [
    "\n",
    "# Variables for holding temp values that will be later assigned to the dataFrame\n",
    "\n",
    "sentence_list = []\n",
    "list_dict = {}\n",
    "\n",
    "for i in range(2, len(df.columns)):\n",
    "    list_dict[df.columns[i]] = []\n",
    "\n",
    "    \n",
    "# Traversing through the read file from tabula\n",
    "for i in range(len(sorted_indexes)):\n",
    "    \n",
    "    sentence_list.append([])\n",
    "    \n",
    "    for k in range(2, len(df.columns)):\n",
    "        list_dict[df.columns[k]].append(' ')\n",
    "    \n",
    "# For the first n-1 lines  \n",
    "    if(i+1 < len(sorted_indexes)):\n",
    "        \n",
    "# Getting all rows between 2 consecutive indexes such as (12.0.1, 12.0.1.01) etc.\n",
    "        i1 = df.index[df['Post'] == sorted_indexes[i]][0]\n",
    "        i2 = df.index[df['Post'] == sorted_indexes[i+1]][0]\n",
    "        \n",
    "        for j in range(i1, i2):\n",
    "            \n",
    "# Adding a new line after\n",
    "            sentence_list[i].append(df[df.columns[1]][j] + \" \\n\")\n",
    "        \n",
    "# Handling rest of the value columns\n",
    "            for k in range(2, len(df.columns)):\n",
    "                if(type(df[df.columns[k]][j]) == str):\n",
    "                    list_dict[df.columns[k]][i] = df[df.columns[k]][j]        \n",
    "            \n",
    "        sentence_list[i] = \" \".join(sentence_list[i])\n",
    "        \n",
    "# For the last line\n",
    "    elif(i+1 >= len(sorted_indexes)):\n",
    "        \n",
    "        i1 = df.index[df['Post'] == sorted_indexes[i]][0]\n",
    "        i2 = len(df)\n",
    "        \n",
    "        for j in range(i1, i2):\n",
    "            \n",
    "# Adding a new line after\n",
    "            sentence_list[i].append(df[df.columns[1]][j] + \" \\n\")\n",
    "            \n",
    "            for k in range(2, len(df.columns)):\n",
    "                if(type(df[df.columns[k]][j]) == str):\n",
    "                    list_dict[df.columns[k]][i] = df[df.columns[k]][j]        \n",
    "                \n",
    "        sentence_list[i] = \" \".join(sentence_list[i]) \n",
    "        \n",
    "        \n",
    "df_new[df.columns[1]] = sentence_list\n",
    "for k in range(2, len(df.columns)):\n",
    "        df_new[df.columns[k]] = list_dict[df.columns[k]]"
   ]
  },
  {
   "cell_type": "code",
   "execution_count": 305,
   "metadata": {},
   "outputs": [
    {
     "data": {
      "text/html": [
       "<div>\n",
       "<style scoped>\n",
       "    .dataframe tbody tr th:only-of-type {\n",
       "        vertical-align: middle;\n",
       "    }\n",
       "\n",
       "    .dataframe tbody tr th {\n",
       "        vertical-align: top;\n",
       "    }\n",
       "\n",
       "    .dataframe thead th {\n",
       "        text-align: right;\n",
       "    }\n",
       "</style>\n",
       "<table border=\"1\" class=\"dataframe\">\n",
       "  <thead>\n",
       "    <tr style=\"text-align: right;\">\n",
       "      <th></th>\n",
       "      <th>Post</th>\n",
       "      <th>Beskrivelse</th>\n",
       "      <th>Enh.</th>\n",
       "      <th>Mengde</th>\n",
       "      <th>Enhetspris</th>\n",
       "      <th>Sum</th>\n",
       "    </tr>\n",
       "  </thead>\n",
       "  <tbody>\n",
       "    <tr>\n",
       "      <th>0</th>\n",
       "      <td>12.24.1.06</td>\n",
       "      <td>PJ3.61213A IV 06 \\n Påforing badekabiner \\n</td>\n",
       "      <td>m2</td>\n",
       "      <td>960,00</td>\n",
       "      <td>0,00</td>\n",
       "      <td>0,00</td>\n",
       "    </tr>\n",
       "    <tr>\n",
       "      <th>1</th>\n",
       "      <td>12.25.2.00</td>\n",
       "      <td>FAST GIPSHIMLING I LEILIGHETER \\n Gjelder i ga...</td>\n",
       "      <td></td>\n",
       "      <td></td>\n",
       "      <td></td>\n",
       "      <td></td>\n",
       "    </tr>\n",
       "    <tr>\n",
       "      <th>2</th>\n",
       "      <td>12.25.2.01</td>\n",
       "      <td>QK1.21 NEDLEKTING FOR HIMLING \\n Lokalisering:...</td>\n",
       "      <td>m2</td>\n",
       "      <td>720,00</td>\n",
       "      <td>0,00</td>\n",
       "      <td>0,00</td>\n",
       "    </tr>\n",
       "    <tr>\n",
       "      <th>3</th>\n",
       "      <td>12.25.2.02</td>\n",
       "      <td>QK5.12212 PLANE PLATER I HIMLING \\n Materiale:...</td>\n",
       "      <td>m2</td>\n",
       "      <td>720,00</td>\n",
       "      <td>0,00</td>\n",
       "      <td>0,00</td>\n",
       "    </tr>\n",
       "    <tr>\n",
       "      <th>4</th>\n",
       "      <td>12.25.2.03</td>\n",
       "      <td>MONTERING AV TAKLUKER \\n</td>\n",
       "      <td>stk</td>\n",
       "      <td>39,00</td>\n",
       "      <td>0,00</td>\n",
       "      <td>0,00</td>\n",
       "    </tr>\n",
       "    <tr>\n",
       "      <th>5</th>\n",
       "      <td>Sum Kapittel.00.00</td>\n",
       "      <td>12 TØMRERARBEIDER \\n</td>\n",
       "      <td></td>\n",
       "      <td></td>\n",
       "      <td></td>\n",
       "      <td>0,00</td>\n",
       "    </tr>\n",
       "  </tbody>\n",
       "</table>\n",
       "</div>"
      ],
      "text/plain": [
       "                 Post                                        Beskrivelse Enh.  \\\n",
       "0          12.24.1.06        PJ3.61213A IV 06 \\n Påforing badekabiner \\n   m2   \n",
       "1          12.25.2.00  FAST GIPSHIMLING I LEILIGHETER \\n Gjelder i ga...        \n",
       "2          12.25.2.01  QK1.21 NEDLEKTING FOR HIMLING \\n Lokalisering:...   m2   \n",
       "3          12.25.2.02  QK5.12212 PLANE PLATER I HIMLING \\n Materiale:...   m2   \n",
       "4          12.25.2.03                           MONTERING AV TAKLUKER \\n  stk   \n",
       "5  Sum Kapittel.00.00                               12 TØMRERARBEIDER \\n        \n",
       "\n",
       "   Mengde Enhetspris   Sum  \n",
       "0  960,00       0,00  0,00  \n",
       "1                           \n",
       "2  720,00       0,00  0,00  \n",
       "3  720,00       0,00  0,00  \n",
       "4   39,00       0,00  0,00  \n",
       "5                     0,00  "
      ]
     },
     "execution_count": 305,
     "metadata": {},
     "output_type": "execute_result"
    }
   ],
   "source": [
    "df_new"
   ]
  },
  {
   "cell_type": "code",
   "execution_count": null,
   "metadata": {},
   "outputs": [],
   "source": []
  }
 ],
 "metadata": {
  "kernelspec": {
   "display_name": "dlaas",
   "language": "python",
   "name": "dlaas"
  },
  "language_info": {
   "codemirror_mode": {
    "name": "ipython",
    "version": 3
   },
   "file_extension": ".py",
   "mimetype": "text/x-python",
   "name": "python",
   "nbconvert_exporter": "python",
   "pygments_lexer": "ipython3",
   "version": "3.5.2"
  }
 },
 "nbformat": 4,
 "nbformat_minor": 2
}
