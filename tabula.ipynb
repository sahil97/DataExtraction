{
 "cells": [
  {
   "cell_type": "code",
   "execution_count": 53,
   "metadata": {},
   "outputs": [],
   "source": [
    "# !pip install pandas\n",
    "# !pip install numpy\n",
    "# !pip install tabula"
   ]
  },
  {
   "cell_type": "code",
   "execution_count": 2,
   "metadata": {},
   "outputs": [
    {
     "ename": "ImportError",
     "evalue": "No module named 'img_proc'",
     "output_type": "error",
     "traceback": [
      "\u001b[0;31m---------------------------------------------------------------------------\u001b[0m",
      "\u001b[0;31mImportError\u001b[0m                               Traceback (most recent call last)",
      "\u001b[0;32m<ipython-input-2-4c1b3125b42d>\u001b[0m in \u001b[0;36m<module>\u001b[0;34m\u001b[0m\n\u001b[1;32m      3\u001b[0m \u001b[0;32mimport\u001b[0m \u001b[0mtabula\u001b[0m\u001b[0;34m\u001b[0m\u001b[0m\n\u001b[1;32m      4\u001b[0m \u001b[0;32mimport\u001b[0m \u001b[0mmath\u001b[0m\u001b[0;34m\u001b[0m\u001b[0m\n\u001b[0;32m----> 5\u001b[0;31m \u001b[0;32mimport\u001b[0m \u001b[0mimg_proc\u001b[0m \u001b[0;32mas\u001b[0m \u001b[0mimg_proc\u001b[0m\u001b[0;34m\u001b[0m\u001b[0m\n\u001b[0m",
      "\u001b[0;31mImportError\u001b[0m: No module named 'img_proc'"
     ]
    }
   ],
   "source": [
    "import pandas as pd\n",
    "import numpy as np\n",
    "import tabula\n",
    "import math"
   ]
  },
  {
   "cell_type": "code",
   "execution_count": 4,
   "metadata": {},
   "outputs": [],
   "source": [
    "templates = {\n",
    "    'page1': (204.91, 33.138, 811.816, 570.86),\n",
    "    'page2': (107.49, 36.113, 800.672, 563.43)\n",
    "}\n",
    "pages = 6\n",
    "default_columns = ['Post', 'Beskrivelse', 'Enh.', 'Mengde', 'Enhetspris', 'Sum']"
   ]
  },
  {
   "cell_type": "code",
   "execution_count": 10,
   "metadata": {},
   "outputs": [],
   "source": [
    "df_final = pd.DataFrame(columns = default_columns)\n",
    "\n",
    "for i in range(1, pages):\n",
    "    \n",
    "    if(i == 1):\n",
    "        df = tabula.read_pdf('MyExport.pdf', pages='1', area=templates['page1'])\n",
    "        \n",
    "        # Error correction for column names\n",
    "        df['Post'] = df['Unnamed: 0']\n",
    "        df.drop(['Unnamed: 0'], axis=1, inplace=True)\n",
    "\n",
    "        df['Sum'] = df['Unnamed: 7']\n",
    "        df.drop(['Unnamed: 7'], axis=1, inplace=True)\n",
    "        \n",
    "        df_final_temp = extract_columns(df)\n",
    "        df_final = pd.concat([df_final, df_final_temp])\n",
    "    \n",
    "    elif(i > 1):\n",
    "        df = tabula.read_pdf('MyExport.pdf', pages=i, area=templates['page1'])\n",
    "        df.columns = default_columns\n",
    "        \n",
    "        df_final_temp = extract_columns(df)\n",
    "        \n",
    "        df_final = pd.concat([df_final, df_final_temp])"
   ]
  },
  {
   "cell_type": "code",
   "execution_count": 7,
   "metadata": {},
   "outputs": [],
   "source": [
    "def extract_columns(df):\n",
    "    sorted_indexes = handle_sort(df)\n",
    "\n",
    "    df_new = get_new_df(df, sorted_indexes)\n",
    "    \n",
    "    return df_new"
   ]
  },
  {
   "cell_type": "code",
   "execution_count": 8,
   "metadata": {},
   "outputs": [],
   "source": [
    "def handle_sort(df):\n",
    "    # Correction for Sorting\n",
    "    for post in df['Post'].value_counts().keys():\n",
    "        if(len(post.split('.')) < 4):\n",
    "            df['Post'][df.index[df['Post'] == post][0]] += '.00'\n",
    "\n",
    "    sorted_indexes = list(df['Post'].value_counts().keys())\n",
    "    sorted_indexes.sort()\n",
    "    return sorted_indexes"
   ]
  },
  {
   "cell_type": "code",
   "execution_count": 11,
   "metadata": {},
   "outputs": [],
   "source": [
    "def get_new_df(df, sorted_indexes):\n",
    "    \n",
    "    \n",
    "    # Making the dataframe index_wise\n",
    "\n",
    "    df_new = pd.DataFrame()\n",
    "    df_new[df.columns[0]] = list(sorted_indexes)\n",
    "    \n",
    "    \n",
    "    # Variables for holding temp values that will be later assigned to the dataFrame\n",
    "\n",
    "    sentence_list = []\n",
    "    list_dict = {}\n",
    "\n",
    "    for i in range(2, len(df.columns)):\n",
    "        list_dict[df.columns[i]] = []\n",
    "\n",
    "\n",
    "    # Traversing through the read file from tabula\n",
    "    for i in range(len(sorted_indexes)):\n",
    "\n",
    "        sentence_list.append([])\n",
    "\n",
    "        for k in range(2, len(df.columns)):\n",
    "            list_dict[df.columns[k]].append(' ')\n",
    "\n",
    "    # For the first n-1 lines  \n",
    "        if(i+1 < len(sorted_indexes)):\n",
    "\n",
    "    # Getting all rows between 2 consecutive indexes such as (12.0.1, 12.0.1.01) etc.\n",
    "            i1 = df.index[df['Post'] == sorted_indexes[i]][0]\n",
    "            i2 = df.index[df['Post'] == sorted_indexes[i+1]][0]\n",
    "\n",
    "            for j in range(i1, i2):\n",
    "\n",
    "    # Adding a new line after\n",
    "                sentence_list[i].append(df[df.columns[1]][j] + \" \\n\")\n",
    "\n",
    "    # Handling rest of the value columns\n",
    "                for k in range(2, len(df.columns)):\n",
    "                    if(type(df[df.columns[k]][j]) == str):\n",
    "                        list_dict[df.columns[k]][i] = df[df.columns[k]][j]        \n",
    "\n",
    "            sentence_list[i] = \" \".join(sentence_list[i])\n",
    "\n",
    "    # For the last line\n",
    "        elif(i+1 >= len(sorted_indexes)):\n",
    "\n",
    "            i1 = df.index[df['Post'] == sorted_indexes[i]][0]\n",
    "            i2 = len(df)\n",
    "\n",
    "            for j in range(i1, i2):\n",
    "\n",
    "    # Adding a new line after\n",
    "                sentence_list[i].append(df[df.columns[1]][j] + \" \\n\")\n",
    "\n",
    "                for k in range(2, len(df.columns)):\n",
    "                    if(type(df[df.columns[k]][j]) == str):\n",
    "                        list_dict[df.columns[k]][i] = df[df.columns[k]][j]        \n",
    "\n",
    "            sentence_list[i] = \" \".join(sentence_list[i]) \n",
    "\n",
    "\n",
    "    df_new[df.columns[1]] = sentence_list\n",
    "    for k in range(2, len(df.columns)):\n",
    "            df_new[df.columns[k]] = list_dict[df.columns[k]]\n",
    "            \n",
    "    return df_new"
   ]
  },
  {
   "cell_type": "code",
   "execution_count": 26,
   "metadata": {},
   "outputs": [
    {
     "data": {
      "text/plain": [
       "0    INNERVEGG - TYPE IV-01 \\n leilighetsskillevegg...\n",
       "0    QK1.21 NEDLEKTING FOR HIMLING \\n Lokalisering:...\n",
       "0    RD6.211 INSTALLASJONSGULV/OPPFOREDE GULV \\n Lo...\n",
       "0    SB1.21-x ISOLERING AV GULV SOM GRENSER NED MOT...\n",
       "0                                                     \n",
       "Name: Beskrivelse, dtype: object"
      ]
     },
     "execution_count": 26,
     "metadata": {},
     "output_type": "execute_result"
    }
   ],
   "source": [
    "df_final['Beskrivelse'][0]"
   ]
  },
  {
   "cell_type": "code",
   "execution_count": null,
   "metadata": {},
   "outputs": [],
   "source": []
  }
 ],
 "metadata": {
  "kernelspec": {
   "display_name": "dlaas",
   "language": "python",
   "name": "dlaas"
  },
  "language_info": {
   "codemirror_mode": {
    "name": "ipython",
    "version": 3
   },
   "file_extension": ".py",
   "mimetype": "text/x-python",
   "name": "python",
   "nbconvert_exporter": "python",
   "pygments_lexer": "ipython3",
   "version": "3.5.2"
  }
 },
 "nbformat": 4,
 "nbformat_minor": 2
}
