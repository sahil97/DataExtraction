{
 "cells": [
  {
   "cell_type": "code",
   "execution_count": 22,
   "metadata": {},
   "outputs": [],
   "source": [
    "from googleapiclient import discovery\n",
    "# from oauth2client.client import GoogleCredentials\n",
    "import os\n",
    "import base64\n",
    "import re\n",
    "import json"
   ]
  },
  {
   "cell_type": "code",
   "execution_count": 24,
   "metadata": {},
   "outputs": [],
   "source": [
    "num = '[0-9]+'"
   ]
  },
  {
   "cell_type": "code",
   "execution_count": 2,
   "metadata": {},
   "outputs": [],
   "source": [
    "data = [{'description': 'EPEAB', 'boundingPoly': {'vertices': [{'x': 126, 'y': 129}, {'x': 462, 'y': 129}, {'x': 462, 'y': 194}, {'x': 126, 'y': 194}]}}, {'description': 'NORDENS', 'boundingPoly': {'vertices': [{'x': 126, 'y': 198}, {'x': 250, 'y': 198}, {'x': 250, 'y': 229}, {'x': 126, 'y': 229}]}}, {'description': 'SAMFUNNSBYGGER', 'boundingPoly': {'vertices': [{'x': 262, 'y': 198}, {'x': 498, 'y': 198}, {'x': 498, 'y': 229}, {'x': 262, 'y': 229}]}}, {'description': 'Pristilbud', 'boundingPoly': {'vertices': [{'x': 121, 'y': 243}, {'x': 280, 'y': 243}, {'x': 280, 'y': 282}, {'x': 121, 'y': 282}]}}, {'description': 'BOTSUPPLY', 'boundingPoly': {'vertices': [{'x': 126, 'y': 297}, {'x': 290, 'y': 299}, {'x': 290, 'y': 338}, {'x': 126, 'y': 336}]}}, {'description': 'IVS', 'boundingPoly': {'vertices': [{'x': 296, 'y': 299}, {'x': 339, 'y': 299}, {'x': 339, 'y': 337}, {'x': 296, 'y': 337}]}}, {'description': '(', 'boundingPoly': {'vertices': [{'x': 351, 'y': 299}, {'x': 361, 'y': 299}, {'x': 361, 'y': 337}, {'x': 351, 'y': 337}]}}, {'description': 'Asser', 'boundingPoly': {'vertices': [{'x': 359, 'y': 299}, {'x': 430, 'y': 300}, {'x': 430, 'y': 339}, {'x': 359, 'y': 338}]}}, {'description': 'Smidt', 'boundingPoly': {'vertices': [{'x': 438, 'y': 300}, {'x': 514, 'y': 301}, {'x': 514, 'y': 340}, {'x': 438, 'y': 339}]}}, {'description': ')', 'boundingPoly': {'vertices': [{'x': 511, 'y': 301}, {'x': 521, 'y': 301}, {'x': 521, 'y': 339}, {'x': 511, 'y': 339}]}}, {'description': 'Folke', 'boundingPoly': {'vertices': [{'x': 137, 'y': 352}, {'x': 200, 'y': 352}, {'x': 200, 'y': 388}, {'x': 137, 'y': 388}]}}, {'description': 'Bernadottesvei', 'boundingPoly': {'vertices': [{'x': 209, 'y': 352}, {'x': 399, 'y': 352}, {'x': 399, 'y': 388}, {'x': 209, 'y': 388}]}}, {'description': '4', 'boundingPoly': {'vertices': [{'x': 404, 'y': 352}, {'x': 414, 'y': 352}, {'x': 414, 'y': 388}, {'x': 404, 'y': 388}]}}, {'description': '13', 'boundingPoly': {'vertices': [{'x': 138, 'y': 402}, {'x': 163, 'y': 402}, {'x': 163, 'y': 437}, {'x': 138, 'y': 437}]}}, {'description': '.', 'boundingPoly': {'vertices': [{'x': 164, 'y': 402}, {'x': 173, 'y': 402}, {'x': 173, 'y': 437}, {'x': 164, 'y': 437}]}}, {'description': '1', 'boundingPoly': {'vertices': [{'x': 178, 'y': 402}, {'x': 187, 'y': 402}, {'x': 187, 'y': 437}, {'x': 178, 'y': 437}]}}, {'description': 'Prisforespørsel', 'boundingPoly': {'vertices': [{'x': 198, 'y': 402}, {'x': 385, 'y': 402}, {'x': 385, 'y': 437}, {'x': 198, 'y': 437}]}}, {'description': 'parkett', 'boundingPoly': {'vertices': [{'x': 388, 'y': 402}, {'x': 479, 'y': 402}, {'x': 479, 'y': 437}, {'x': 388, 'y': 437}]}}, {'description': 'og', 'boundingPoly': {'vertices': [{'x': 482, 'y': 402}, {'x': 514, 'y': 402}, {'x': 514, 'y': 437}, {'x': 482, 'y': 437}]}}, {'description': 'innredningsarbeider', 'boundingPoly': {'vertices': [{'x': 521, 'y': 402}, {'x': 767, 'y': 402}, {'x': 767, 'y': 437}, {'x': 521, 'y': 437}]}}, {'description': '(', 'boundingPoly': {'vertices': [{'x': 776, 'y': 402}, {'x': 785, 'y': 402}, {'x': 785, 'y': 437}, {'x': 776, 'y': 437}]}}, {'description': 'Revisjon', 'boundingPoly': {'vertices': [{'x': 783, 'y': 402}, {'x': 887, 'y': 402}, {'x': 887, 'y': 437}, {'x': 783, 'y': 437}]}}, {'description': ':', 'boundingPoly': {'vertices': [{'x': 891, 'y': 402}, {'x': 900, 'y': 402}, {'x': 900, 'y': 437}, {'x': 891, 'y': 437}]}}, {'description': '1', 'boundingPoly': {'vertices': [{'x': 909, 'y': 402}, {'x': 918, 'y': 402}, {'x': 918, 'y': 437}, {'x': 909, 'y': 437}]}}, {'description': ')', 'boundingPoly': {'vertices': [{'x': 923, 'y': 402}, {'x': 932, 'y': 402}, {'x': 932, 'y': 437}, {'x': 923, 'y': 437}]}}, {'description': '26', 'boundingPoly': {'vertices': [{'x': 1340, 'y': 305}, {'x': 1359, 'y': 305}, {'x': 1359, 'y': 332}, {'x': 1340, 'y': 332}]}}, {'description': '.', 'boundingPoly': {'vertices': [{'x': 1368, 'y': 305}, {'x': 1375, 'y': 305}, {'x': 1375, 'y': 332}, {'x': 1368, 'y': 332}]}}, {'description': '08', 'boundingPoly': {'vertices': [{'x': 1374, 'y': 305}, {'x': 1399, 'y': 305}, {'x': 1399, 'y': 332}, {'x': 1374, 'y': 332}]}}, {'description': '.', 'boundingPoly': {'vertices': [{'x': 1404, 'y': 305}, {'x': 1411, 'y': 305}, {'x': 1411, 'y': 332}, {'x': 1404, 'y': 332}]}}, {'description': '2019', 'boundingPoly': {'vertices': [{'x': 1413, 'y': 305}, {'x': 1472, 'y': 305}, {'x': 1472, 'y': 332}, {'x': 1413, 'y': 332}]}}, {'description': '11', 'boundingPoly': {'vertices': [{'x': 1486, 'y': 305}, {'x': 1511, 'y': 305}, {'x': 1511, 'y': 332}, {'x': 1486, 'y': 332}]}}, {'description': ':', 'boundingPoly': {'vertices': [{'x': 1513, 'y': 305}, {'x': 1520, 'y': 305}, {'x': 1520, 'y': 332}, {'x': 1513, 'y': 332}]}}, {'description': '41', 'boundingPoly': {'vertices': [{'x': 1522, 'y': 305}, {'x': 1551, 'y': 305}, {'x': 1551, 'y': 332}, {'x': 1522, 'y': 332}]}}, {'description': 'Side', 'boundingPoly': {'vertices': [{'x': 1434, 'y': 405}, {'x': 1477, 'y': 405}, {'x': 1477, 'y': 427}, {'x': 1434, 'y': 427}]}}, {'description': '1', 'boundingPoly': {'vertices': [{'x': 1487, 'y': 405}, {'x': 1492, 'y': 405}, {'x': 1492, 'y': 427}, {'x': 1487, 'y': 427}]}}, {'description': 'av', 'boundingPoly': {'vertices': [{'x': 1504, 'y': 405}, {'x': 1523, 'y': 405}, {'x': 1523, 'y': 427}, {'x': 1504, 'y': 427}]}}, {'description': '6', 'boundingPoly': {'vertices': [{'x': 1533, 'y': 405}, {'x': 1538, 'y': 405}, {'x': 1538, 'y': 427}, {'x': 1533, 'y': 427}]}}, {'description': 'PEAB', 'boundingPoly': {'vertices': [{'x': 133, 'y': 458}, {'x': 203, 'y': 458}, {'x': 203, 'y': 480}, {'x': 133, 'y': 480}]}}, {'description': 'AS', 'boundingPoly': {'vertices': [{'x': 216, 'y': 458}, {'x': 249, 'y': 458}, {'x': 249, 'y': 480}, {'x': 216, 'y': 480}]}}, {'description': 'Kapittel', 'boundingPoly': {'vertices': [{'x': 133, 'y': 512}, {'x': 236, 'y': 512}, {'x': 236, 'y': 546}, {'x': 133, 'y': 546}]}}, {'description': '12', 'boundingPoly': {'vertices': [{'x': 413, 'y': 509}, {'x': 436, 'y': 509}, {'x': 436, 'y': 540}, {'x': 413, 'y': 540}]}}, {'description': 'TØMRERARBEIDER', 'boundingPoly': {'vertices': [{'x': 452, 'y': 509}, {'x': 684, 'y': 509}, {'x': 684, 'y': 540}, {'x': 452, 'y': 540}]}}, {'description': 'Post', 'boundingPoly': {'vertices': [{'x': 227, 'y': 575}, {'x': 273, 'y': 575}, {'x': 273, 'y': 597}, {'x': 227, 'y': 597}]}}, {'description': 'Beskrivelse', 'boundingPoly': {'vertices': [{'x': 621, 'y': 573}, {'x': 740, 'y': 573}, {'x': 740, 'y': 600}, {'x': 621, 'y': 600}]}}, {'description': 'Enh', 'boundingPoly': {'vertices': [{'x': 986, 'y': 573}, {'x': 1020, 'y': 573}, {'x': 1020, 'y': 600}, {'x': 986, 'y': 600}]}}, {'description': '.', 'boundingPoly': {'vertices': [{'x': 1025, 'y': 573}, {'x': 1032, 'y': 573}, {'x': 1032, 'y': 600}, {'x': 1025, 'y': 600}]}}, {'description': 'Mengde', 'boundingPoly': {'vertices': [{'x': 1069, 'y': 573}, {'x': 1158, 'y': 573}, {'x': 1158, 'y': 600}, {'x': 1069, 'y': 600}]}}, {'description': '|', 'boundingPoly': {'vertices': [{'x': 1179, 'y': 573}, {'x': 1186, 'y': 573}, {'x': 1186, 'y': 600}, {'x': 1179, 'y': 600}]}}, {'description': 'Enhetspris', 'boundingPoly': {'vertices': [{'x': 1214, 'y': 573}, {'x': 1322, 'y': 573}, {'x': 1322, 'y': 600}, {'x': 1214, 'y': 600}]}}, {'description': 'Sum', 'boundingPoly': {'vertices': [{'x': 1434, 'y': 575}, {'x': 1471, 'y': 575}, {'x': 1471, 'y': 596}, {'x': 1434, 'y': 596}]}}, {'description': '12', 'boundingPoly': {'vertices': [{'x': 140, 'y': 615}, {'x': 159, 'y': 615}, {'x': 159, 'y': 642}, {'x': 140, 'y': 642}]}}, {'description': '.', 'boundingPoly': {'vertices': [{'x': 165, 'y': 615}, {'x': 172, 'y': 615}, {'x': 172, 'y': 642}, {'x': 165, 'y': 642}]}}, {'description': '24', 'boundingPoly': {'vertices': [{'x': 171, 'y': 615}, {'x': 196, 'y': 615}, {'x': 196, 'y': 642}, {'x': 171, 'y': 642}]}}, {'description': '.', 'boundingPoly': {'vertices': [{'x': 199, 'y': 615}, {'x': 206, 'y': 615}, {'x': 206, 'y': 642}, {'x': 199, 'y': 642}]}}, {'description': '1', 'boundingPoly': {'vertices': [{'x': 213, 'y': 615}, {'x': 220, 'y': 615}, {'x': 220, 'y': 642}, {'x': 213, 'y': 642}]}}, {'description': 'INNERVEGG', 'boundingPoly': {'vertices': [{'x': 399, 'y': 618}, {'x': 533, 'y': 618}, {'x': 533, 'y': 640}, {'x': 399, 'y': 640}]}}, {'description': '-', 'boundingPoly': {'vertices': [{'x': 546, 'y': 618}, {'x': 551, 'y': 618}, {'x': 551, 'y': 640}, {'x': 546, 'y': 640}]}}, {'description': 'TYPE', 'boundingPoly': {'vertices': [{'x': 565, 'y': 618}, {'x': 616, 'y': 618}, {'x': 616, 'y': 640}, {'x': 565, 'y': 640}]}}, {'description': 'IV', 'boundingPoly': {'vertices': [{'x': 627, 'y': 618}, {'x': 648, 'y': 618}, {'x': 648, 'y': 640}, {'x': 627, 'y': 640}]}}, {'description': '-', 'boundingPoly': {'vertices': [{'x': 657, 'y': 618}, {'x': 662, 'y': 618}, {'x': 662, 'y': 640}, {'x': 657, 'y': 640}]}}, {'description': '01', 'boundingPoly': {'vertices': [{'x': 662, 'y': 618}, {'x': 690, 'y': 618}, {'x': 690, 'y': 640}, {'x': 662, 'y': 640}]}}, {'description': 'leilighetsskillevegg', 'boundingPoly': {'vertices': [{'x': 399, 'y': 646}, {'x': 617, 'y': 646}, {'x': 617, 'y': 669}, {'x': 399, 'y': 669}]}}, {'description': '/', 'boundingPoly': {'vertices': [{'x': 622, 'y': 646}, {'x': 628, 'y': 646}, {'x': 628, 'y': 669}, {'x': 622, 'y': 669}]}}, {'description': 'Lydvegg', 'boundingPoly': {'vertices': [{'x': 629, 'y': 646}, {'x': 725, 'y': 646}, {'x': 725, 'y': 669}, {'x': 629, 'y': 669}]}}, {'description': 'tekniske', 'boundingPoly': {'vertices': [{'x': 737, 'y': 646}, {'x': 830, 'y': 646}, {'x': 830, 'y': 669}, {'x': 737, 'y': 669}]}}, {'description': 'rom', 'boundingPoly': {'vertices': [{'x': 840, 'y': 646}, {'x': 874, 'y': 646}, {'x': 874, 'y': 669}, {'x': 840, 'y': 669}]}}, {'description': 'INNERVEGG', 'boundingPoly': {'vertices': [{'x': 400, 'y': 687}, {'x': 511, 'y': 687}, {'x': 511, 'y': 710}, {'x': 400, 'y': 710}]}}, {'description': '-', 'boundingPoly': {'vertices': [{'x': 524, 'y': 687}, {'x': 530, 'y': 687}, {'x': 530, 'y': 710}, {'x': 524, 'y': 710}]}}, {'description': 'TYPE', 'boundingPoly': {'vertices': [{'x': 542, 'y': 687}, {'x': 588, 'y': 687}, {'x': 588, 'y': 710}, {'x': 542, 'y': 710}]}}, {'description': 'IV', 'boundingPoly': {'vertices': [{'x': 599, 'y': 687}, {'x': 611, 'y': 687}, {'x': 611, 'y': 710}, {'x': 599, 'y': 710}]}}, {'description': '-', 'boundingPoly': {'vertices': [{'x': 620, 'y': 687}, {'x': 626, 'y': 687}, {'x': 626, 'y': 710}, {'x': 620, 'y': 710}]}}, {'description': '01', 'boundingPoly': {'vertices': [{'x': 625, 'y': 687}, {'x': 650, 'y': 687}, {'x': 650, 'y': 710}, {'x': 625, 'y': 710}]}}, {'description': 'leilighetsskillevegg', 'boundingPoly': {'vertices': [{'x': 396, 'y': 715}, {'x': 577, 'y': 715}, {'x': 577, 'y': 737}, {'x': 396, 'y': 737}]}}, {'description': '/', 'boundingPoly': {'vertices': [{'x': 581, 'y': 715}, {'x': 586, 'y': 715}, {'x': 586, 'y': 737}, {'x': 581, 'y': 737}]}}, {'description': 'Korridorvegger', 'boundingPoly': {'vertices': [{'x': 585, 'y': 715}, {'x': 732, 'y': 715}, {'x': 732, 'y': 737}, {'x': 585, 'y': 737}]}}, {'description': 'For', 'boundingPoly': {'vertices': [{'x': 398, 'y': 768}, {'x': 428, 'y': 768}, {'x': 428, 'y': 791}, {'x': 398, 'y': 791}]}}, {'description': 'omfang', 'boundingPoly': {'vertices': [{'x': 436, 'y': 768}, {'x': 509, 'y': 768}, {'x': 509, 'y': 791}, {'x': 436, 'y': 791}]}}, {'description': 'og', 'boundingPoly': {'vertices': [{'x': 518, 'y': 768}, {'x': 539, 'y': 768}, {'x': 539, 'y': 791}, {'x': 518, 'y': 791}]}}, {'description': 'utførelse', 'boundingPoly': {'vertices': [{'x': 549, 'y': 768}, {'x': 632, 'y': 768}, {'x': 632, 'y': 791}, {'x': 549, 'y': 791}]}}, {'description': 'kfr', 'boundingPoly': {'vertices': [{'x': 641, 'y': 768}, {'x': 664, 'y': 768}, {'x': 664, 'y': 791}, {'x': 641, 'y': 791}]}}, {'description': '.', 'boundingPoly': {'vertices': [{'x': 665, 'y': 768}, {'x': 671, 'y': 768}, {'x': 671, 'y': 791}, {'x': 665, 'y': 791}]}}, {'description': 'følgende', 'boundingPoly': {'vertices': [{'x': 679, 'y': 768}, {'x': 762, 'y': 768}, {'x': 762, 'y': 791}, {'x': 679, 'y': 791}]}}, {'description': ':', 'boundingPoly': {'vertices': [{'x': 766, 'y': 768}, {'x': 772, 'y': 768}, {'x': 772, 'y': 791}, {'x': 766, 'y': 791}]}}, {'description': '-', 'boundingPoly': {'vertices': [{'x': 398, 'y': 796}, {'x': 404, 'y': 796}, {'x': 404, 'y': 819}, {'x': 398, 'y': 819}]}}, {'description': 'Plantegninger', 'boundingPoly': {'vertices': [{'x': 414, 'y': 796}, {'x': 546, 'y': 796}, {'x': 546, 'y': 819}, {'x': 414, 'y': 819}]}}, {'description': '-', 'boundingPoly': {'vertices': [{'x': 400, 'y': 823}, {'x': 405, 'y': 823}, {'x': 405, 'y': 844}, {'x': 400, 'y': 844}]}}, {'description': 'Snitt', 'boundingPoly': {'vertices': [{'x': 413, 'y': 823}, {'x': 455, 'y': 823}, {'x': 455, 'y': 844}, {'x': 413, 'y': 844}]}}, {'description': '-', 'boundingPoly': {'vertices': [{'x': 398, 'y': 848}, {'x': 403, 'y': 848}, {'x': 403, 'y': 870}, {'x': 398, 'y': 870}]}}, {'description': 'Innledende', 'boundingPoly': {'vertices': [{'x': 413, 'y': 848}, {'x': 519, 'y': 848}, {'x': 519, 'y': 870}, {'x': 413, 'y': 870}]}}, {'description': 'tekst', 'boundingPoly': {'vertices': [{'x': 530, 'y': 848}, {'x': 577, 'y': 848}, {'x': 577, 'y': 870}, {'x': 530, 'y': 870}]}}, {'description': 'Brannkrav', 'boundingPoly': {'vertices': [{'x': 396, 'y': 903}, {'x': 493, 'y': 903}, {'x': 493, 'y': 924}, {'x': 396, 'y': 924}]}}, {'description': ':', 'boundingPoly': {'vertices': [{'x': 498, 'y': 903}, {'x': 503, 'y': 903}, {'x': 503, 'y': 924}, {'x': 498, 'y': 924}]}}, {'description': '-', 'boundingPoly': {'vertices': [{'x': 513, 'y': 903}, {'x': 518, 'y': 903}, {'x': 518, 'y': 924}, {'x': 513, 'y': 924}]}}, {'description': 'Lydkrav', 'boundingPoly': {'vertices': [{'x': 397, 'y': 930}, {'x': 473, 'y': 930}, {'x': 473, 'y': 953}, {'x': 397, 'y': 953}]}}, {'description': ':', 'boundingPoly': {'vertices': [{'x': 475, 'y': 930}, {'x': 481, 'y': 930}, {'x': 481, 'y': 953}, {'x': 475, 'y': 953}]}}, {'description': '-', 'boundingPoly': {'vertices': [{'x': 489, 'y': 930}, {'x': 495, 'y': 930}, {'x': 495, 'y': 953}, {'x': 489, 'y': 953}]}}, {'description': 'Veggen', 'boundingPoly': {'vertices': [{'x': 396, 'y': 984}, {'x': 465, 'y': 984}, {'x': 465, 'y': 1007}, {'x': 396, 'y': 1007}]}}, {'description': 'bygges', 'boundingPoly': {'vertices': [{'x': 475, 'y': 984}, {'x': 548, 'y': 984}, {'x': 548, 'y': 1007}, {'x': 475, 'y': 1007}]}}, {'description': 'opp', 'boundingPoly': {'vertices': [{'x': 556, 'y': 984}, {'x': 590, 'y': 984}, {'x': 590, 'y': 1007}, {'x': 556, 'y': 1007}]}}, {'description': 'som', 'boundingPoly': {'vertices': [{'x': 600, 'y': 984}, {'x': 629, 'y': 984}, {'x': 629, 'y': 1007}, {'x': 600, 'y': 1007}]}}, {'description': 'følger', 'boundingPoly': {'vertices': [{'x': 646, 'y': 984}, {'x': 701, 'y': 984}, {'x': 701, 'y': 1007}, {'x': 646, 'y': 1007}]}}, {'description': ':', 'boundingPoly': {'vertices': [{'x': 703, 'y': 984}, {'x': 709, 'y': 984}, {'x': 709, 'y': 1007}, {'x': 703, 'y': 1007}]}}, {'description': '-', 'boundingPoly': {'vertices': [{'x': 398, 'y': 1009}, {'x': 404, 'y': 1009}, {'x': 404, 'y': 1033}, {'x': 398, 'y': 1033}]}}, {'description': '2', 'boundingPoly': {'vertices': [{'x': 416, 'y': 1009}, {'x': 422, 'y': 1009}, {'x': 422, 'y': 1033}, {'x': 416, 'y': 1033}]}}, {'description': 'x', 'boundingPoly': {'vertices': [{'x': 433, 'y': 1009}, {'x': 439, 'y': 1009}, {'x': 439, 'y': 1033}, {'x': 433, 'y': 1033}]}}, {'description': '13', 'boundingPoly': {'vertices': [{'x': 452, 'y': 1009}, {'x': 474, 'y': 1009}, {'x': 474, 'y': 1033}, {'x': 452, 'y': 1033}]}}, {'description': 'mm', 'boundingPoly': {'vertices': [{'x': 480, 'y': 1009}, {'x': 511, 'y': 1009}, {'x': 511, 'y': 1033}, {'x': 480, 'y': 1033}]}}, {'description': 'gipsplate', 'boundingPoly': {'vertices': [{'x': 528, 'y': 1009}, {'x': 610, 'y': 1009}, {'x': 610, 'y': 1033}, {'x': 528, 'y': 1033}]}}, {'description': '-', 'boundingPoly': {'vertices': [{'x': 399, 'y': 1036}, {'x': 405, 'y': 1036}, {'x': 405, 'y': 1060}, {'x': 399, 'y': 1060}]}}, {'description': '70', 'boundingPoly': {'vertices': [{'x': 412, 'y': 1036}, {'x': 434, 'y': 1036}, {'x': 434, 'y': 1060}, {'x': 412, 'y': 1060}]}}, {'description': 'mm', 'boundingPoly': {'vertices': [{'x': 439, 'y': 1036}, {'x': 475, 'y': 1036}, {'x': 475, 'y': 1060}, {'x': 439, 'y': 1060}]}}, {'description': 'bindingsverk', 'boundingPoly': {'vertices': [{'x': 488, 'y': 1036}, {'x': 608, 'y': 1036}, {'x': 608, 'y': 1060}, {'x': 488, 'y': 1060}]}}, {'description': 'av', 'boundingPoly': {'vertices': [{'x': 621, 'y': 1036}, {'x': 638, 'y': 1036}, {'x': 638, 'y': 1060}, {'x': 621, 'y': 1060}]}}, {'description': 'stål', 'boundingPoly': {'vertices': [{'x': 652, 'y': 1036}, {'x': 683, 'y': 1036}, {'x': 683, 'y': 1060}, {'x': 652, 'y': 1060}]}}, {'description': '-', 'boundingPoly': {'vertices': [{'x': 398, 'y': 1062}, {'x': 404, 'y': 1062}, {'x': 404, 'y': 1086}, {'x': 398, 'y': 1086}]}}, {'description': '45', 'boundingPoly': {'vertices': [{'x': 415, 'y': 1062}, {'x': 433, 'y': 1062}, {'x': 433, 'y': 1086}, {'x': 415, 'y': 1086}]}}, {'description': 'mm', 'boundingPoly': {'vertices': [{'x': 442, 'y': 1062}, {'x': 473, 'y': 1062}, {'x': 473, 'y': 1086}, {'x': 442, 'y': 1086}]}}, {'description': 'isolasjon', 'boundingPoly': {'vertices': [{'x': 489, 'y': 1062}, {'x': 568, 'y': 1062}, {'x': 568, 'y': 1086}, {'x': 489, 'y': 1086}]}}, {'description': '-', 'boundingPoly': {'vertices': [{'x': 398, 'y': 1089}, {'x': 404, 'y': 1089}, {'x': 404, 'y': 1112}, {'x': 398, 'y': 1112}]}}, {'description': '30', 'boundingPoly': {'vertices': [{'x': 416, 'y': 1089}, {'x': 433, 'y': 1089}, {'x': 433, 'y': 1112}, {'x': 416, 'y': 1112}]}}, {'description': 'mm', 'boundingPoly': {'vertices': [{'x': 442, 'y': 1089}, {'x': 471, 'y': 1089}, {'x': 471, 'y': 1112}, {'x': 442, 'y': 1112}]}}, {'description': 'luftrom', 'boundingPoly': {'vertices': [{'x': 490, 'y': 1089}, {'x': 549, 'y': 1089}, {'x': 549, 'y': 1112}, {'x': 490, 'y': 1112}]}}, {'description': '-', 'boundingPoly': {'vertices': [{'x': 398, 'y': 1118}, {'x': 403, 'y': 1118}, {'x': 403, 'y': 1139}, {'x': 398, 'y': 1139}]}}, {'description': '70', 'boundingPoly': {'vertices': [{'x': 414, 'y': 1118}, {'x': 433, 'y': 1118}, {'x': 433, 'y': 1139}, {'x': 414, 'y': 1139}]}}, {'description': 'mm', 'boundingPoly': {'vertices': [{'x': 439, 'y': 1118}, {'x': 474, 'y': 1118}, {'x': 474, 'y': 1139}, {'x': 439, 'y': 1139}]}}, {'description': 'bindingsverk', 'boundingPoly': {'vertices': [{'x': 485, 'y': 1118}, {'x': 604, 'y': 1118}, {'x': 604, 'y': 1139}, {'x': 485, 'y': 1139}]}}, {'description': 'av', 'boundingPoly': {'vertices': [{'x': 617, 'y': 1118}, {'x': 640, 'y': 1118}, {'x': 640, 'y': 1139}, {'x': 617, 'y': 1139}]}}, {'description': 'stål', 'boundingPoly': {'vertices': [{'x': 650, 'y': 1118}, {'x': 682, 'y': 1118}, {'x': 682, 'y': 1139}, {'x': 650, 'y': 1139}]}}, {'description': '-', 'boundingPoly': {'vertices': [{'x': 398, 'y': 1144}, {'x': 404, 'y': 1144}, {'x': 404, 'y': 1167}, {'x': 398, 'y': 1167}]}}, {'description': '45', 'boundingPoly': {'vertices': [{'x': 413, 'y': 1144}, {'x': 434, 'y': 1144}, {'x': 434, 'y': 1167}, {'x': 413, 'y': 1167}]}}, {'description': 'mm', 'boundingPoly': {'vertices': [{'x': 442, 'y': 1144}, {'x': 471, 'y': 1144}, {'x': 471, 'y': 1167}, {'x': 442, 'y': 1167}]}}, {'description': 'isolasjon', 'boundingPoly': {'vertices': [{'x': 489, 'y': 1144}, {'x': 568, 'y': 1144}, {'x': 568, 'y': 1167}, {'x': 489, 'y': 1167}]}}, {'description': '-', 'boundingPoly': {'vertices': [{'x': 398, 'y': 1170}, {'x': 404, 'y': 1170}, {'x': 404, 'y': 1194}, {'x': 398, 'y': 1194}]}}, {'description': '2', 'boundingPoly': {'vertices': [{'x': 416, 'y': 1170}, {'x': 422, 'y': 1170}, {'x': 422, 'y': 1194}, {'x': 416, 'y': 1194}]}}, {'description': 'x', 'boundingPoly': {'vertices': [{'x': 433, 'y': 1170}, {'x': 439, 'y': 1170}, {'x': 439, 'y': 1194}, {'x': 433, 'y': 1194}]}}, {'description': '13', 'boundingPoly': {'vertices': [{'x': 452, 'y': 1170}, {'x': 474, 'y': 1170}, {'x': 474, 'y': 1194}, {'x': 452, 'y': 1194}]}}, {'description': 'mm', 'boundingPoly': {'vertices': [{'x': 476, 'y': 1170}, {'x': 512, 'y': 1170}, {'x': 512, 'y': 1194}, {'x': 476, 'y': 1194}]}}, {'description': 'gipsplate', 'boundingPoly': {'vertices': [{'x': 528, 'y': 1170}, {'x': 610, 'y': 1170}, {'x': 610, 'y': 1194}, {'x': 528, 'y': 1194}]}}, {'description': '-', 'boundingPoly': {'vertices': [{'x': 398, 'y': 1197}, {'x': 404, 'y': 1197}, {'x': 404, 'y': 1221}, {'x': 398, 'y': 1221}]}}, {'description': 'nødv', 'boundingPoly': {'vertices': [{'x': 412, 'y': 1197}, {'x': 459, 'y': 1197}, {'x': 459, 'y': 1221}, {'x': 412, 'y': 1221}]}}, {'description': '.', 'boundingPoly': {'vertices': [{'x': 461, 'y': 1197}, {'x': 467, 'y': 1197}, {'x': 467, 'y': 1221}, {'x': 461, 'y': 1221}]}}, {'description': 'fugetetting', 'boundingPoly': {'vertices': [{'x': 476, 'y': 1197}, {'x': 579, 'y': 1197}, {'x': 579, 'y': 1221}, {'x': 476, 'y': 1221}]}}, {'description': 'Komplett', 'boundingPoly': {'vertices': [{'x': 398, 'y': 1252}, {'x': 484, 'y': 1252}, {'x': 484, 'y': 1275}, {'x': 398, 'y': 1275}]}}, {'description': ',', 'boundingPoly': {'vertices': [{'x': 485, 'y': 1252}, {'x': 491, 'y': 1252}, {'x': 491, 'y': 1275}, {'x': 485, 'y': 1275}]}}, {'description': 'inkl', 'boundingPoly': {'vertices': [{'x': 498, 'y': 1252}, {'x': 533, 'y': 1252}, {'x': 533, 'y': 1275}, {'x': 498, 'y': 1275}]}}, {'description': '.', 'boundingPoly': {'vertices': [{'x': 533, 'y': 1252}, {'x': 539, 'y': 1252}, {'x': 539, 'y': 1275}, {'x': 533, 'y': 1275}]}}, {'description': 'alle', 'boundingPoly': {'vertices': [{'x': 547, 'y': 1252}, {'x': 575, 'y': 1252}, {'x': 575, 'y': 1275}, {'x': 547, 'y': 1275}]}}, {'description': 'tilpasninger', 'boundingPoly': {'vertices': [{'x': 587, 'y': 1252}, {'x': 699, 'y': 1252}, {'x': 699, 'y': 1275}, {'x': 587, 'y': 1275}]}}, {'description': 'og', 'boundingPoly': {'vertices': [{'x': 707, 'y': 1252}, {'x': 728, 'y': 1252}, {'x': 728, 'y': 1275}, {'x': 707, 'y': 1275}]}}, {'description': 'tilslutninger', 'boundingPoly': {'vertices': [{'x': 738, 'y': 1252}, {'x': 852, 'y': 1252}, {'x': 852, 'y': 1275}, {'x': 738, 'y': 1275}]}}, {'description': 'mot', 'boundingPoly': {'vertices': [{'x': 855, 'y': 1252}, {'x': 896, 'y': 1252}, {'x': 896, 'y': 1275}, {'x': 855, 'y': 1275}]}}, {'description': 'tilstøtende', 'boundingPoly': {'vertices': [{'x': 399, 'y': 1277}, {'x': 499, 'y': 1278}, {'x': 499, 'y': 1301}, {'x': 399, 'y': 1300}]}}, {'description': 'konstruksjoner', 'boundingPoly': {'vertices': [{'x': 506, 'y': 1278}, {'x': 653, 'y': 1280}, {'x': 653, 'y': 1303}, {'x': 506, 'y': 1301}]}}, {'description': '.', 'boundingPoly': {'vertices': [{'x': 652, 'y': 1280}, {'x': 657, 'y': 1280}, {'x': 657, 'y': 1302}, {'x': 652, 'y': 1302}]}}, {'description': '12', 'boundingPoly': {'vertices': [{'x': 138, 'y': 1392}, {'x': 155, 'y': 1392}, {'x': 155, 'y': 1415}, {'x': 138, 'y': 1415}]}}, {'description': '.', 'boundingPoly': {'vertices': [{'x': 160, 'y': 1392}, {'x': 166, 'y': 1392}, {'x': 166, 'y': 1415}, {'x': 160, 'y': 1415}]}}, {'description': '24', 'boundingPoly': {'vertices': [{'x': 168, 'y': 1392}, {'x': 189, 'y': 1392}, {'x': 189, 'y': 1415}, {'x': 168, 'y': 1415}]}}, {'description': '.', 'boundingPoly': {'vertices': [{'x': 191, 'y': 1392}, {'x': 197, 'y': 1392}, {'x': 197, 'y': 1415}, {'x': 191, 'y': 1415}]}}, {'description': '1', 'boundingPoly': {'vertices': [{'x': 203, 'y': 1392}, {'x': 209, 'y': 1392}, {'x': 209, 'y': 1415}, {'x': 203, 'y': 1415}]}}, {'description': '.', 'boundingPoly': {'vertices': [{'x': 210, 'y': 1392}, {'x': 216, 'y': 1392}, {'x': 216, 'y': 1415}, {'x': 210, 'y': 1415}]}}, {'description': '01', 'boundingPoly': {'vertices': [{'x': 217, 'y': 1392}, {'x': 243, 'y': 1392}, {'x': 243, 'y': 1415}, {'x': 217, 'y': 1415}]}}, {'description': 'QK5', 'boundingPoly': {'vertices': [{'x': 399, 'y': 1394}, {'x': 437, 'y': 1393}, {'x': 437, 'y': 1416}, {'x': 399, 'y': 1417}]}}, {'description': '.', 'boundingPoly': {'vertices': [{'x': 441, 'y': 1394}, {'x': 446, 'y': 1394}, {'x': 446, 'y': 1416}, {'x': 441, 'y': 1416}]}}, {'description': '31112A', 'boundingPoly': {'vertices': [{'x': 447, 'y': 1394}, {'x': 520, 'y': 1393}, {'x': 520, 'y': 1415}, {'x': 447, 'y': 1416}]}}, {'description': 'IV', 'boundingPoly': {'vertices': [{'x': 532, 'y': 1393}, {'x': 548, 'y': 1393}, {'x': 548, 'y': 1415}, {'x': 532, 'y': 1415}]}}, {'description': '01', 'boundingPoly': {'vertices': [{'x': 560, 'y': 1392}, {'x': 585, 'y': 1392}, {'x': 585, 'y': 1414}, {'x': 560, 'y': 1414}]}}, {'description': 'm2', 'boundingPoly': {'vertices': [{'x': 983, 'y': 1380}, {'x': 1026, 'y': 1380}, {'x': 1026, 'y': 1427}, {'x': 983, 'y': 1427}]}}, {'description': 'm2', 'boundingPoly': {'vertices': [{'x': 986, 'y': 1396}, {'x': 1018, 'y': 1396}, {'x': 1018, 'y': 1416}, {'x': 986, 'y': 1416}]}}, {'description': '972', 'boundingPoly': {'vertices': [{'x': 1118, 'y': 1380}, {'x': 1145, 'y': 1380}, {'x': 1145, 'y': 1427}, {'x': 1118, 'y': 1427}]}}, {'description': ',', 'boundingPoly': {'vertices': [{'x': 1144, 'y': 1380}, {'x': 1157, 'y': 1380}, {'x': 1157, 'y': 1427}, {'x': 1144, 'y': 1427}]}}, {'description': '00', 'boundingPoly': {'vertices': [{'x': 1162, 'y': 1380}, {'x': 1179, 'y': 1380}, {'x': 1179, 'y': 1427}, {'x': 1162, 'y': 1427}]}}, {'description': '0', 'boundingPoly': {'vertices': [{'x': 1311, 'y': 1396}, {'x': 1316, 'y': 1396}, {'x': 1316, 'y': 1416}, {'x': 1311, 'y': 1416}]}}, {'description': ',', 'boundingPoly': {'vertices': [{'x': 1322, 'y': 1396}, {'x': 1327, 'y': 1396}, {'x': 1327, 'y': 1416}, {'x': 1322, 'y': 1416}]}}, {'description': '00', 'boundingPoly': {'vertices': [{'x': 1330, 'y': 1396}, {'x': 1349, 'y': 1396}, {'x': 1349, 'y': 1416}, {'x': 1330, 'y': 1416}]}}, {'description': '0', 'boundingPoly': {'vertices': [{'x': 1312, 'y': 1380}, {'x': 1325, 'y': 1380}, {'x': 1325, 'y': 1427}, {'x': 1312, 'y': 1427}]}}, {'description': ',', 'boundingPoly': {'vertices': [{'x': 1322, 'y': 1380}, {'x': 1335, 'y': 1380}, {'x': 1335, 'y': 1427}, {'x': 1322, 'y': 1427}]}}, {'description': '00', 'boundingPoly': {'vertices': [{'x': 1334, 'y': 1380}, {'x': 1352, 'y': 1380}, {'x': 1352, 'y': 1427}, {'x': 1334, 'y': 1427}]}}, {'description': '0', 'boundingPoly': {'vertices': [{'x': 1499, 'y': 1394}, {'x': 1504, 'y': 1394}, {'x': 1504, 'y': 1416}, {'x': 1499, 'y': 1416}]}}, {'description': ',', 'boundingPoly': {'vertices': [{'x': 1511, 'y': 1394}, {'x': 1516, 'y': 1394}, {'x': 1516, 'y': 1416}, {'x': 1511, 'y': 1416}]}}, {'description': '00', 'boundingPoly': {'vertices': [{'x': 1518, 'y': 1394}, {'x': 1538, 'y': 1394}, {'x': 1538, 'y': 1416}, {'x': 1518, 'y': 1416}]}}, {'description': 'Komplett', 'boundingPoly': {'vertices': [{'x': 396, 'y': 1444}, {'x': 482, 'y': 1444}, {'x': 482, 'y': 1466}, {'x': 396, 'y': 1466}]}}, {'description': 'leilighetskillevegg', 'boundingPoly': {'vertices': [{'x': 494, 'y': 1444}, {'x': 662, 'y': 1444}, {'x': 662, 'y': 1466}, {'x': 494, 'y': 1466}]}}, {'description': '.', 'boundingPoly': {'vertices': [{'x': 664, 'y': 1444}, {'x': 669, 'y': 1444}, {'x': 669, 'y': 1466}, {'x': 664, 'y': 1466}]}}, {'description': 'Brutto', 'boundingPoly': {'vertices': [{'x': 398, 'y': 1471}, {'x': 455, 'y': 1471}, {'x': 455, 'y': 1493}, {'x': 398, 'y': 1493}]}}, {'description': 'veggflate', 'boundingPoly': {'vertices': [{'x': 465, 'y': 1471}, {'x': 554, 'y': 1471}, {'x': 554, 'y': 1493}, {'x': 465, 'y': 1493}]}}, {'description': '.', 'boundingPoly': {'vertices': [{'x': 557, 'y': 1471}, {'x': 562, 'y': 1471}, {'x': 562, 'y': 1493}, {'x': 557, 'y': 1493}]}}, {'description': '12', 'boundingPoly': {'vertices': [{'x': 137, 'y': 1585}, {'x': 158, 'y': 1585}, {'x': 158, 'y': 1608}, {'x': 137, 'y': 1608}]}}, {'description': '.', 'boundingPoly': {'vertices': [{'x': 160, 'y': 1585}, {'x': 166, 'y': 1585}, {'x': 166, 'y': 1608}, {'x': 160, 'y': 1608}]}}, {'description': '24', 'boundingPoly': {'vertices': [{'x': 168, 'y': 1585}, {'x': 189, 'y': 1585}, {'x': 189, 'y': 1608}, {'x': 168, 'y': 1608}]}}, {'description': '.', 'boundingPoly': {'vertices': [{'x': 191, 'y': 1585}, {'x': 197, 'y': 1585}, {'x': 197, 'y': 1608}, {'x': 191, 'y': 1608}]}}, {'description': '1', 'boundingPoly': {'vertices': [{'x': 203, 'y': 1585}, {'x': 209, 'y': 1585}, {'x': 209, 'y': 1608}, {'x': 203, 'y': 1608}]}}, {'description': '.', 'boundingPoly': {'vertices': [{'x': 210, 'y': 1585}, {'x': 216, 'y': 1585}, {'x': 216, 'y': 1608}, {'x': 210, 'y': 1608}]}}, {'description': '02', 'boundingPoly': {'vertices': [{'x': 218, 'y': 1585}, {'x': 239, 'y': 1585}, {'x': 239, 'y': 1608}, {'x': 218, 'y': 1608}]}}, {'description': 'PJ3', 'boundingPoly': {'vertices': [{'x': 399, 'y': 1583}, {'x': 428, 'y': 1583}, {'x': 428, 'y': 1612}, {'x': 399, 'y': 1612}]}}, {'description': '.', 'boundingPoly': {'vertices': [{'x': 433, 'y': 1583}, {'x': 441, 'y': 1583}, {'x': 441, 'y': 1612}, {'x': 433, 'y': 1612}]}}, {'description': '132122911A', 'boundingPoly': {'vertices': [{'x': 441, 'y': 1583}, {'x': 560, 'y': 1583}, {'x': 560, 'y': 1612}, {'x': 441, 'y': 1612}]}}, {'description': 'IV', 'boundingPoly': {'vertices': [{'x': 574, 'y': 1583}, {'x': 590, 'y': 1583}, {'x': 590, 'y': 1612}, {'x': 574, 'y': 1612}]}}, {'description': '02', 'boundingPoly': {'vertices': [{'x': 603, 'y': 1583}, {'x': 624, 'y': 1583}, {'x': 624, 'y': 1612}, {'x': 603, 'y': 1612}]}}, {'description': 'm2', 'boundingPoly': {'vertices': [{'x': 984, 'y': 1588}, {'x': 1019, 'y': 1588}, {'x': 1019, 'y': 1607}, {'x': 984, 'y': 1607}]}}, {'description': '1', 'boundingPoly': {'vertices': [{'x': 1098, 'y': 1572}, {'x': 1111, 'y': 1572}, {'x': 1111, 'y': 1619}, {'x': 1098, 'y': 1619}]}}, {'description': '409', 'boundingPoly': {'vertices': [{'x': 1113, 'y': 1572}, {'x': 1147, 'y': 1572}, {'x': 1147, 'y': 1619}, {'x': 1113, 'y': 1619}]}}, {'description': ',', 'boundingPoly': {'vertices': [{'x': 1146, 'y': 1572}, {'x': 1159, 'y': 1572}, {'x': 1159, 'y': 1619}, {'x': 1146, 'y': 1619}]}}, {'description': '00', 'boundingPoly': {'vertices': [{'x': 1156, 'y': 1572}, {'x': 1183, 'y': 1572}, {'x': 1183, 'y': 1619}, {'x': 1156, 'y': 1619}]}}, {'description': '0', 'boundingPoly': {'vertices': [{'x': 1309, 'y': 1572}, {'x': 1322, 'y': 1572}, {'x': 1322, 'y': 1619}, {'x': 1309, 'y': 1619}]}}, {'description': ',', 'boundingPoly': {'vertices': [{'x': 1321, 'y': 1572}, {'x': 1334, 'y': 1572}, {'x': 1334, 'y': 1619}, {'x': 1321, 'y': 1619}]}}, {'description': '00', 'boundingPoly': {'vertices': [{'x': 1336, 'y': 1572}, {'x': 1353, 'y': 1572}, {'x': 1353, 'y': 1619}, {'x': 1336, 'y': 1619}]}}, {'description': '0', 'boundingPoly': {'vertices': [{'x': 1312, 'y': 1590}, {'x': 1315, 'y': 1590}, {'x': 1316, 'y': 1605}, {'x': 1313, 'y': 1605}]}}, {'description': '.', 'boundingPoly': {'vertices': [{'x': 1323, 'y': 1589}, {'x': 1326, 'y': 1589}, {'x': 1327, 'y': 1604}, {'x': 1324, 'y': 1604}]}}, {'description': '00', 'boundingPoly': {'vertices': [{'x': 1330, 'y': 1589}, {'x': 1350, 'y': 1588}, {'x': 1351, 'y': 1603}, {'x': 1331, 'y': 1604}]}}, {'description': '0', 'boundingPoly': {'vertices': [{'x': 1500, 'y': 1586}, {'x': 1505, 'y': 1586}, {'x': 1505, 'y': 1607}, {'x': 1500, 'y': 1607}]}}, {'description': ',', 'boundingPoly': {'vertices': [{'x': 1511, 'y': 1586}, {'x': 1516, 'y': 1586}, {'x': 1516, 'y': 1607}, {'x': 1511, 'y': 1607}]}}, {'description': '00', 'boundingPoly': {'vertices': [{'x': 1518, 'y': 1586}, {'x': 1537, 'y': 1586}, {'x': 1537, 'y': 1607}, {'x': 1518, 'y': 1607}]}}, {'description': 'Komplett', 'boundingPoly': {'vertices': [{'x': 396, 'y': 1635}, {'x': 484, 'y': 1635}, {'x': 484, 'y': 1659}, {'x': 396, 'y': 1659}]}}, {'description': 'lettvegg', 'boundingPoly': {'vertices': [{'x': 494, 'y': 1635}, {'x': 569, 'y': 1635}, {'x': 569, 'y': 1659}, {'x': 494, 'y': 1659}]}}, {'description': '.', 'boundingPoly': {'vertices': [{'x': 571, 'y': 1635}, {'x': 577, 'y': 1635}, {'x': 577, 'y': 1659}, {'x': 571, 'y': 1659}]}}, {'description': 'Brutto', 'boundingPoly': {'vertices': [{'x': 398, 'y': 1662}, {'x': 453, 'y': 1662}, {'x': 453, 'y': 1686}, {'x': 398, 'y': 1686}]}}, {'description': 'veggflate', 'boundingPoly': {'vertices': [{'x': 465, 'y': 1662}, {'x': 554, 'y': 1662}, {'x': 554, 'y': 1686}, {'x': 465, 'y': 1686}]}}, {'description': '12', 'boundingPoly': {'vertices': [{'x': 137, 'y': 1777}, {'x': 158, 'y': 1777}, {'x': 158, 'y': 1800}, {'x': 137, 'y': 1800}]}}, {'description': '.', 'boundingPoly': {'vertices': [{'x': 160, 'y': 1777}, {'x': 166, 'y': 1777}, {'x': 166, 'y': 1800}, {'x': 160, 'y': 1800}]}}, {'description': '24', 'boundingPoly': {'vertices': [{'x': 168, 'y': 1777}, {'x': 189, 'y': 1777}, {'x': 189, 'y': 1800}, {'x': 168, 'y': 1800}]}}, {'description': '.', 'boundingPoly': {'vertices': [{'x': 191, 'y': 1777}, {'x': 197, 'y': 1777}, {'x': 197, 'y': 1800}, {'x': 191, 'y': 1800}]}}, {'description': '1', 'boundingPoly': {'vertices': [{'x': 203, 'y': 1777}, {'x': 209, 'y': 1777}, {'x': 209, 'y': 1800}, {'x': 203, 'y': 1800}]}}, {'description': '.', 'boundingPoly': {'vertices': [{'x': 210, 'y': 1777}, {'x': 216, 'y': 1777}, {'x': 216, 'y': 1800}, {'x': 210, 'y': 1800}]}}, {'description': '03', 'boundingPoly': {'vertices': [{'x': 218, 'y': 1777}, {'x': 239, 'y': 1777}, {'x': 239, 'y': 1800}, {'x': 218, 'y': 1800}]}}, {'description': 'SB1', 'boundingPoly': {'vertices': [{'x': 397, 'y': 1777}, {'x': 436, 'y': 1777}, {'x': 436, 'y': 1804}, {'x': 397, 'y': 1804}]}}, {'description': '.', 'boundingPoly': {'vertices': [{'x': 435, 'y': 1777}, {'x': 442, 'y': 1777}, {'x': 442, 'y': 1804}, {'x': 435, 'y': 1804}]}}, {'description': '11299', 'boundingPoly': {'vertices': [{'x': 445, 'y': 1777}, {'x': 506, 'y': 1777}, {'x': 506, 'y': 1804}, {'x': 445, 'y': 1804}]}}, {'description': 'IV', 'boundingPoly': {'vertices': [{'x': 514, 'y': 1777}, {'x': 533, 'y': 1777}, {'x': 533, 'y': 1804}, {'x': 514, 'y': 1804}]}}, {'description': '03', 'boundingPoly': {'vertices': [{'x': 544, 'y': 1777}, {'x': 564, 'y': 1777}, {'x': 564, 'y': 1804}, {'x': 544, 'y': 1804}]}}, {'description': 'm2', 'boundingPoly': {'vertices': [{'x': 986, 'y': 1780}, {'x': 1018, 'y': 1780}, {'x': 1018, 'y': 1800}, {'x': 986, 'y': 1800}]}}, {'description': '119', 'boundingPoly': {'vertices': [{'x': 1114, 'y': 1778}, {'x': 1147, 'y': 1778}, {'x': 1147, 'y': 1800}, {'x': 1114, 'y': 1800}]}}, {'description': ',', 'boundingPoly': {'vertices': [{'x': 1149, 'y': 1778}, {'x': 1154, 'y': 1778}, {'x': 1154, 'y': 1800}, {'x': 1149, 'y': 1800}]}}, {'description': '00', 'boundingPoly': {'vertices': [{'x': 1156, 'y': 1778}, {'x': 1176, 'y': 1778}, {'x': 1176, 'y': 1800}, {'x': 1156, 'y': 1800}]}}, {'description': '119', 'boundingPoly': {'vertices': [{'x': 1114, 'y': 1763}, {'x': 1149, 'y': 1763}, {'x': 1149, 'y': 1812}, {'x': 1114, 'y': 1812}]}}, {'description': ',', 'boundingPoly': {'vertices': [{'x': 1148, 'y': 1763}, {'x': 1162, 'y': 1763}, {'x': 1162, 'y': 1812}, {'x': 1148, 'y': 1812}]}}, {'description': '00', 'boundingPoly': {'vertices': [{'x': 1161, 'y': 1763}, {'x': 1179, 'y': 1763}, {'x': 1179, 'y': 1812}, {'x': 1161, 'y': 1812}]}}, {'description': '0', 'boundingPoly': {'vertices': [{'x': 1311, 'y': 1780}, {'x': 1316, 'y': 1780}, {'x': 1316, 'y': 1800}, {'x': 1311, 'y': 1800}]}}, {'description': ',', 'boundingPoly': {'vertices': [{'x': 1322, 'y': 1780}, {'x': 1327, 'y': 1780}, {'x': 1327, 'y': 1800}, {'x': 1322, 'y': 1800}]}}, {'description': '00', 'boundingPoly': {'vertices': [{'x': 1330, 'y': 1780}, {'x': 1349, 'y': 1780}, {'x': 1349, 'y': 1800}, {'x': 1330, 'y': 1800}]}}, {'description': '0', 'boundingPoly': {'vertices': [{'x': 1313, 'y': 1763}, {'x': 1327, 'y': 1763}, {'x': 1327, 'y': 1812}, {'x': 1313, 'y': 1812}]}}, {'description': ',', 'boundingPoly': {'vertices': [{'x': 1318, 'y': 1763}, {'x': 1332, 'y': 1763}, {'x': 1332, 'y': 1812}, {'x': 1318, 'y': 1812}]}}, {'description': '00', 'boundingPoly': {'vertices': [{'x': 1336, 'y': 1763}, {'x': 1354, 'y': 1763}, {'x': 1354, 'y': 1812}, {'x': 1336, 'y': 1812}]}}, {'description': '0', 'boundingPoly': {'vertices': [{'x': 1499, 'y': 1778}, {'x': 1504, 'y': 1778}, {'x': 1504, 'y': 1800}, {'x': 1499, 'y': 1800}]}}, {'description': ',', 'boundingPoly': {'vertices': [{'x': 1511, 'y': 1778}, {'x': 1516, 'y': 1778}, {'x': 1516, 'y': 1800}, {'x': 1511, 'y': 1800}]}}, {'description': '00', 'boundingPoly': {'vertices': [{'x': 1518, 'y': 1778}, {'x': 1538, 'y': 1778}, {'x': 1538, 'y': 1800}, {'x': 1518, 'y': 1800}]}}, {'description': 'Pocetvegg', 'boundingPoly': {'vertices': [{'x': 398, 'y': 1828}, {'x': 495, 'y': 1828}, {'x': 495, 'y': 1851}, {'x': 398, 'y': 1851}]}}, {'description': 'Komplett', 'boundingPoly': {'vertices': [{'x': 396, 'y': 1854}, {'x': 484, 'y': 1854}, {'x': 484, 'y': 1877}, {'x': 396, 'y': 1877}]}}, {'description': 'brutto', 'boundingPoly': {'vertices': [{'x': 491, 'y': 1854}, {'x': 549, 'y': 1854}, {'x': 549, 'y': 1877}, {'x': 491, 'y': 1877}]}}, {'description': 'flate', 'boundingPoly': {'vertices': [{'x': 560, 'y': 1854}, {'x': 600, 'y': 1854}, {'x': 600, 'y': 1877}, {'x': 560, 'y': 1877}]}}, {'description': '.', 'boundingPoly': {'vertices': [{'x': 602, 'y': 1854}, {'x': 608, 'y': 1854}, {'x': 608, 'y': 1877}, {'x': 602, 'y': 1877}]}}, {'description': '12', 'boundingPoly': {'vertices': [{'x': 137, 'y': 1969}, {'x': 158, 'y': 1969}, {'x': 158, 'y': 1992}, {'x': 137, 'y': 1992}]}}, {'description': '.', 'boundingPoly': {'vertices': [{'x': 160, 'y': 1969}, {'x': 166, 'y': 1969}, {'x': 166, 'y': 1992}, {'x': 160, 'y': 1992}]}}, {'description': '24', 'boundingPoly': {'vertices': [{'x': 168, 'y': 1969}, {'x': 189, 'y': 1969}, {'x': 189, 'y': 1992}, {'x': 168, 'y': 1992}]}}, {'description': '.', 'boundingPoly': {'vertices': [{'x': 191, 'y': 1969}, {'x': 197, 'y': 1969}, {'x': 197, 'y': 1992}, {'x': 191, 'y': 1992}]}}, {'description': '1', 'boundingPoly': {'vertices': [{'x': 203, 'y': 1969}, {'x': 209, 'y': 1969}, {'x': 209, 'y': 1992}, {'x': 203, 'y': 1992}]}}, {'description': '.', 'boundingPoly': {'vertices': [{'x': 210, 'y': 1969}, {'x': 216, 'y': 1969}, {'x': 216, 'y': 1992}, {'x': 210, 'y': 1992}]}}, {'description': '04', 'boundingPoly': {'vertices': [{'x': 218, 'y': 1969}, {'x': 239, 'y': 1969}, {'x': 239, 'y': 1992}, {'x': 218, 'y': 1992}]}}, {'description': 'QK5', 'boundingPoly': {'vertices': [{'x': 402, 'y': 1969}, {'x': 436, 'y': 1969}, {'x': 436, 'y': 1996}, {'x': 402, 'y': 1996}]}}, {'description': '.', 'boundingPoly': {'vertices': [{'x': 441, 'y': 1969}, {'x': 448, 'y': 1969}, {'x': 448, 'y': 1996}, {'x': 441, 'y': 1996}]}}, {'description': '31112A', 'boundingPoly': {'vertices': [{'x': 447, 'y': 1969}, {'x': 519, 'y': 1969}, {'x': 519, 'y': 1996}, {'x': 447, 'y': 1996}]}}, {'description': 'IV', 'boundingPoly': {'vertices': [{'x': 531, 'y': 1969}, {'x': 549, 'y': 1969}, {'x': 549, 'y': 1996}, {'x': 531, 'y': 1996}]}}, {'description': '04', 'boundingPoly': {'vertices': [{'x': 560, 'y': 1969}, {'x': 580, 'y': 1969}, {'x': 580, 'y': 1996}, {'x': 560, 'y': 1996}]}}, {'description': 'm2', 'boundingPoly': {'vertices': [{'x': 984, 'y': 1973}, {'x': 1018, 'y': 1973}, {'x': 1018, 'y': 1991}, {'x': 984, 'y': 1991}]}}, {'description': '556', 'boundingPoly': {'vertices': [{'x': 1118, 'y': 1956}, {'x': 1145, 'y': 1956}, {'x': 1145, 'y': 2003}, {'x': 1118, 'y': 2003}]}}, {'description': ',', 'boundingPoly': {'vertices': [{'x': 1148, 'y': 1956}, {'x': 1161, 'y': 1956}, {'x': 1161, 'y': 2003}, {'x': 1148, 'y': 2003}]}}, {'description': '00', 'boundingPoly': {'vertices': [{'x': 1161, 'y': 1956}, {'x': 1177, 'y': 1956}, {'x': 1177, 'y': 2003}, {'x': 1161, 'y': 2003}]}}, {'description': '0', 'boundingPoly': {'vertices': [{'x': 1311, 'y': 1956}, {'x': 1324, 'y': 1956}, {'x': 1324, 'y': 2003}, {'x': 1311, 'y': 2003}]}}, {'description': ',', 'boundingPoly': {'vertices': [{'x': 1321, 'y': 1956}, {'x': 1334, 'y': 1956}, {'x': 1334, 'y': 2003}, {'x': 1321, 'y': 2003}]}}, {'description': '00', 'boundingPoly': {'vertices': [{'x': 1334, 'y': 1956}, {'x': 1351, 'y': 1956}, {'x': 1351, 'y': 2003}, {'x': 1334, 'y': 2003}]}}, {'description': '0', 'boundingPoly': {'vertices': [{'x': 1312, 'y': 1972}, {'x': 1316, 'y': 1972}, {'x': 1316, 'y': 1990}, {'x': 1312, 'y': 1990}]}}, {'description': ',', 'boundingPoly': {'vertices': [{'x': 1324, 'y': 1972}, {'x': 1328, 'y': 1972}, {'x': 1328, 'y': 1990}, {'x': 1324, 'y': 1990}]}}, {'description': '00', 'boundingPoly': {'vertices': [{'x': 1330, 'y': 1972}, {'x': 1350, 'y': 1972}, {'x': 1350, 'y': 1990}, {'x': 1330, 'y': 1990}]}}, {'description': '0', 'boundingPoly': {'vertices': [{'x': 1499, 'y': 1971}, {'x': 1504, 'y': 1971}, {'x': 1504, 'y': 1992}, {'x': 1499, 'y': 1992}]}}, {'description': ',', 'boundingPoly': {'vertices': [{'x': 1510, 'y': 1971}, {'x': 1515, 'y': 1971}, {'x': 1515, 'y': 1992}, {'x': 1510, 'y': 1992}]}}, {'description': '00', 'boundingPoly': {'vertices': [{'x': 1517, 'y': 1971}, {'x': 1536, 'y': 1971}, {'x': 1536, 'y': 1992}, {'x': 1517, 'y': 1992}]}}, {'description': 'Sjaktvegg', 'boundingPoly': {'vertices': [{'x': 398, 'y': 2020}, {'x': 491, 'y': 2020}, {'x': 491, 'y': 2043}, {'x': 398, 'y': 2043}]}}, {'description': 'Komplett', 'boundingPoly': {'vertices': [{'x': 396, 'y': 2046}, {'x': 484, 'y': 2046}, {'x': 484, 'y': 2069}, {'x': 396, 'y': 2069}]}}, {'description': '12', 'boundingPoly': {'vertices': [{'x': 139, 'y': 2161}, {'x': 158, 'y': 2161}, {'x': 158, 'y': 2188}, {'x': 139, 'y': 2188}]}}, {'description': '.', 'boundingPoly': {'vertices': [{'x': 159, 'y': 2161}, {'x': 166, 'y': 2161}, {'x': 166, 'y': 2188}, {'x': 159, 'y': 2188}]}}, {'description': '24', 'boundingPoly': {'vertices': [{'x': 170, 'y': 2161}, {'x': 189, 'y': 2161}, {'x': 189, 'y': 2188}, {'x': 170, 'y': 2188}]}}, {'description': '.', 'boundingPoly': {'vertices': [{'x': 192, 'y': 2161}, {'x': 199, 'y': 2161}, {'x': 199, 'y': 2188}, {'x': 192, 'y': 2188}]}}, {'description': '1', 'boundingPoly': {'vertices': [{'x': 201, 'y': 2161}, {'x': 208, 'y': 2161}, {'x': 208, 'y': 2188}, {'x': 201, 'y': 2188}]}}, {'description': '.', 'boundingPoly': {'vertices': [{'x': 212, 'y': 2161}, {'x': 219, 'y': 2161}, {'x': 219, 'y': 2188}, {'x': 212, 'y': 2188}]}}, {'description': '05', 'boundingPoly': {'vertices': [{'x': 220, 'y': 2161}, {'x': 239, 'y': 2161}, {'x': 239, 'y': 2188}, {'x': 220, 'y': 2188}]}}, {'description': 'SF3', 'boundingPoly': {'vertices': [{'x': 396, 'y': 2163}, {'x': 432, 'y': 2163}, {'x': 432, 'y': 2185}, {'x': 396, 'y': 2185}]}}, {'description': '.', 'boundingPoly': {'vertices': [{'x': 436, 'y': 2163}, {'x': 441, 'y': 2163}, {'x': 441, 'y': 2185}, {'x': 436, 'y': 2185}]}}, {'description': '1000A', 'boundingPoly': {'vertices': [{'x': 447, 'y': 2163}, {'x': 502, 'y': 2163}, {'x': 502, 'y': 2185}, {'x': 447, 'y': 2185}]}}, {'description': 'IV', 'boundingPoly': {'vertices': [{'x': 513, 'y': 2163}, {'x': 530, 'y': 2163}, {'x': 530, 'y': 2185}, {'x': 513, 'y': 2185}]}}, {'description': '05', 'boundingPoly': {'vertices': [{'x': 542, 'y': 2163}, {'x': 563, 'y': 2163}, {'x': 563, 'y': 2185}, {'x': 542, 'y': 2185}]}}, {'description': 'm2', 'boundingPoly': {'vertices': [{'x': 983, 'y': 2148}, {'x': 1026, 'y': 2148}, {'x': 1026, 'y': 2195}, {'x': 983, 'y': 2195}]}}, {'description': '510', 'boundingPoly': {'vertices': [{'x': 1112, 'y': 2148}, {'x': 1151, 'y': 2148}, {'x': 1151, 'y': 2195}, {'x': 1112, 'y': 2195}]}}, {'description': ',', 'boundingPoly': {'vertices': [{'x': 1144, 'y': 2148}, {'x': 1157, 'y': 2148}, {'x': 1157, 'y': 2195}, {'x': 1144, 'y': 2195}]}}, {'description': '00', 'boundingPoly': {'vertices': [{'x': 1162, 'y': 2148}, {'x': 1179, 'y': 2148}, {'x': 1179, 'y': 2195}, {'x': 1162, 'y': 2195}]}}, {'description': '0', 'boundingPoly': {'vertices': [{'x': 1312, 'y': 2148}, {'x': 1325, 'y': 2148}, {'x': 1325, 'y': 2195}, {'x': 1312, 'y': 2195}]}}, {'description': ',', 'boundingPoly': {'vertices': [{'x': 1322, 'y': 2148}, {'x': 1335, 'y': 2148}, {'x': 1335, 'y': 2195}, {'x': 1322, 'y': 2195}]}}, {'description': '00', 'boundingPoly': {'vertices': [{'x': 1334, 'y': 2148}, {'x': 1352, 'y': 2148}, {'x': 1352, 'y': 2195}, {'x': 1334, 'y': 2195}]}}, {'description': '0', 'boundingPoly': {'vertices': [{'x': 1499, 'y': 2162}, {'x': 1504, 'y': 2162}, {'x': 1504, 'y': 2184}, {'x': 1499, 'y': 2184}]}}, {'description': ',', 'boundingPoly': {'vertices': [{'x': 1511, 'y': 2162}, {'x': 1516, 'y': 2162}, {'x': 1516, 'y': 2184}, {'x': 1511, 'y': 2184}]}}, {'description': '00', 'boundingPoly': {'vertices': [{'x': 1518, 'y': 2162}, {'x': 1538, 'y': 2162}, {'x': 1538, 'y': 2184}, {'x': 1518, 'y': 2184}]}}]"
   ]
  },
  {
   "cell_type": "code",
   "execution_count": 296,
   "metadata": {},
   "outputs": [
    {
     "name": "stdout",
     "output_type": "stream",
     "text": [
      "12 . 24 . 1\n",
      "12 . 24 . 1 . 01\n",
      "12 . 24 . 1 . 02\n",
      "12 . 24 . 1 . 03\n",
      "12 . 24 . 1 . 04\n",
      "12 . 24 . 1 . 05\n"
     ]
    }
   ],
   "source": [
    "post = []\n",
    "j = 0\n",
    "continue_count = 0\n",
    "for i in range(len(data)):\n",
    "    if(continue_count):\n",
    "        continue_count -= 1\n",
    "        continue\n",
    "    if(i+4 < len(data)):\n",
    "        if(\n",
    "            len(re.findall(num, data[i]['description'])) and \n",
    "            data[i+1]['description']=='.' and \n",
    "            len(re.findall(num, data[i+2]['description'])) and \n",
    "            data[i+3]['description']=='.' and \n",
    "            (len(re.findall(num, data[i+4]['description']))) and(len(data[i+4]['description']) < 4)):\n",
    "            \n",
    "                if(data[i+5]['description']=='.' and len(re.findall(num, data[i+6]['description']))):\n",
    "                    print(data[i]['description'], \".\", data[i+2]['description'], \".\", data[i+4]['description'], \".\", data[i+6]['description'])  \n",
    "                    post.append(data[i])\n",
    "                    continue_count = 2\n",
    "                    \n",
    "                else:\n",
    "                    print(data[i]['description'], \".\", data[i+2]['description'], \".\", data[i+4]['description'])  \n",
    "                    post.append(data[i])"
   ]
  },
  {
   "cell_type": "code",
   "execution_count": 444,
   "metadata": {},
   "outputs": [
    {
     "data": {
      "text/plain": [
       "[{'boundingPoly': {'vertices': [{'x': 140, 'y': 615},\n",
       "    {'x': 159, 'y': 615},\n",
       "    {'x': 159, 'y': 642},\n",
       "    {'x': 140, 'y': 642}]},\n",
       "  'description': '12'},\n",
       " {'boundingPoly': {'vertices': [{'x': 138, 'y': 1392},\n",
       "    {'x': 155, 'y': 1392},\n",
       "    {'x': 155, 'y': 1415},\n",
       "    {'x': 138, 'y': 1415}]},\n",
       "  'description': '12'},\n",
       " {'boundingPoly': {'vertices': [{'x': 137, 'y': 1585},\n",
       "    {'x': 158, 'y': 1585},\n",
       "    {'x': 158, 'y': 1608},\n",
       "    {'x': 137, 'y': 1608}]},\n",
       "  'description': '12'},\n",
       " {'boundingPoly': {'vertices': [{'x': 137, 'y': 1777},\n",
       "    {'x': 158, 'y': 1777},\n",
       "    {'x': 158, 'y': 1800},\n",
       "    {'x': 137, 'y': 1800}]},\n",
       "  'description': '12'},\n",
       " {'boundingPoly': {'vertices': [{'x': 137, 'y': 1969},\n",
       "    {'x': 158, 'y': 1969},\n",
       "    {'x': 158, 'y': 1992},\n",
       "    {'x': 137, 'y': 1992}]},\n",
       "  'description': '12'},\n",
       " {'boundingPoly': {'vertices': [{'x': 139, 'y': 2161},\n",
       "    {'x': 158, 'y': 2161},\n",
       "    {'x': 158, 'y': 2188},\n",
       "    {'x': 139, 'y': 2188}]},\n",
       "  'description': '12'}]"
      ]
     },
     "execution_count": 444,
     "metadata": {},
     "output_type": "execute_result"
    }
   ],
   "source": [
    "post"
   ]
  },
  {
   "cell_type": "code",
   "execution_count": 491,
   "metadata": {},
   "outputs": [],
   "source": [
    "text_between = []\n",
    "for i in range(len(post)):\n",
    "    if(i+1 >= len(post)):\n",
    "        y_min = post[-1]['boundingPoly']['vertices'][0]['y']\n",
    "        text_between.append([])\n",
    "        for word in data:\n",
    "            if(word['boundingPoly']['vertices'][0]['y'] <= (y_min - 5)):\n",
    "                if(len(word['description'])):\n",
    "                    text_between[i].append(word)\n",
    "    elif(i+1 < len(post)):\n",
    "        y_min = post[i]['boundingPoly']['vertices'][0]['y']\n",
    "        y_max = post[i+1]['boundingPoly']['vertices'][0]['y']\n",
    "        text_between.append([])\n",
    "        for word in data:\n",
    "            if(word['boundingPoly']['vertices'][0]['y'] >= (y_min - 5) and word['boundingPoly']['vertices'][0]['y'] <= (y_max)):\n",
    "                if(len(word['description'])):\n",
    "                    text_between[i].append(word)"
   ]
  },
  {
   "cell_type": "code",
   "execution_count": 492,
   "metadata": {},
   "outputs": [],
   "source": [
    "sentences = []\n",
    "for i in range(len(text_between)):\n",
    "    sentences.append([])\n",
    "    if(len(text_between[i])):\n",
    "        for word in text_between[i]:\n",
    "            sentences[i].append(word)\n",
    "#         print(w[-3]['description'], w[-2]['description'], w[-1]['description'])"
   ]
  },
  {
   "cell_type": "code",
   "execution_count": 493,
   "metadata": {},
   "outputs": [
    {
     "name": "stdout",
     "output_type": "stream",
     "text": [
      "6\n"
     ]
    }
   ],
   "source": [
    "print(len(sentences))"
   ]
  },
  {
   "cell_type": "code",
   "execution_count": 494,
   "metadata": {},
   "outputs": [],
   "source": [
    "text = []\n",
    "for i in range(len(sentences)):\n",
    "    if(i==0):\n",
    "        text.append([])\n",
    "        for word in sentences[i]:\n",
    "            text[i].append(word)\n",
    "    elif(i>0):\n",
    "        text.append([])\n",
    "        prev_length = len(sentences[i-1])\n",
    "        sentences[i] = sentences[i][prev_length+1:]\n",
    "        for word in sentences[i]:\n",
    "            text[i].append(word)\n",
    "    #     sentences[i] = sentences[len(sentences[i-1]):]"
   ]
  },
  {
   "cell_type": "code",
   "execution_count": 495,
   "metadata": {},
   "outputs": [
    {
     "name": "stdout",
     "output_type": "stream",
     "text": [
      "[{'boundingPoly': {'vertices': [{'x': 140, 'y': 615}, {'x': 159, 'y': 615}, {'x': 159, 'y': 642}, {'x': 140, 'y': 642}]}, 'description': '12'}, {'boundingPoly': {'vertices': [{'x': 165, 'y': 615}, {'x': 172, 'y': 615}, {'x': 172, 'y': 642}, {'x': 165, 'y': 642}]}, 'description': '.'}]\n"
     ]
    }
   ],
   "source": [
    "print(text[0][0:2])"
   ]
  },
  {
   "cell_type": "code",
   "execution_count": 496,
   "metadata": {},
   "outputs": [],
   "source": [
    "printable_sentences = []\n",
    "for j in range(len(text)):\n",
    "    printable_sentences.append([])\n",
    "    for i in range(len(text[j])):\n",
    "        if(i==0):\n",
    "            printable_sentences[j].append(text[j][i]['description'])\n",
    "        elif(i>0):\n",
    "            word2 = text[j][i]\n",
    "            word1 = text[j][i-1]\n",
    "            word3 = text[j][i-2]\n",
    "            if(word2['boundingPoly']['vertices'][0]['y'] > word1['boundingPoly']['vertices'][0]['y']):\n",
    "                printable_sentences[j].append(\"\\n\")\n",
    "                printable_sentences[j].append(word2['description'])\n",
    "            else:\n",
    "                printable_sentences[j].append(word2['description'])"
   ]
  },
  {
   "cell_type": "code",
   "execution_count": 497,
   "metadata": {},
   "outputs": [],
   "source": [
    "sentences_again = []\n",
    "for sentence in printable_sentences:\n",
    "    if(sentence):\n",
    "#     print(\" \".join(sentence))\n",
    "        sentences_again.append(\" \".join(sentence))"
   ]
  },
  {
   "cell_type": "code",
   "execution_count": 498,
   "metadata": {},
   "outputs": [
    {
     "name": "stdout",
     "output_type": "stream",
     "text": [
      "12 . 24 . 1 \n",
      " INNERVEGG - TYPE IV - 01 \n",
      " leilighetsskillevegg / Lydvegg tekniske rom \n",
      " INNERVEGG - TYPE IV - 01 \n",
      " leilighetsskillevegg / Korridorvegger \n",
      " For omfang og utførelse kfr . følgende : \n",
      " - Plantegninger \n",
      " - Snitt \n",
      " - Innledende tekst \n",
      " Brannkrav : - \n",
      " Lydkrav : - \n",
      " Veggen bygges opp som følger : \n",
      " - 2 x 13 mm gipsplate \n",
      " - 70 mm bindingsverk av stål \n",
      " - 45 mm isolasjon \n",
      " - 30 mm luftrom \n",
      " - 70 mm bindingsverk av stål \n",
      " - 45 mm isolasjon \n",
      " - 2 x 13 mm gipsplate \n",
      " - nødv . fugetetting \n",
      " Komplett , inkl . alle tilpasninger og tilslutninger mot \n",
      " tilstøtende \n",
      " konstruksjoner \n",
      " . \n",
      " 12 . 24 . 1 . 01 01 m2 972 , 00 0 , 00\n",
      "\n",
      "\n",
      "Next sentence is\n",
      "\n",
      "\n",
      ". 24 . 1 . 02 PJ3 . 132122911A IV 02 \n",
      " m2 \n",
      " 0 . 00 0 , 00 \n",
      " Komplett lettvegg . \n",
      " Brutto veggflate \n",
      " 12 . 24 . 1 . 03 SB1 . 11299 IV 03 119 , 00 0 , 00\n",
      "\n",
      "\n",
      "Next sentence is\n",
      "\n",
      "\n",
      "0 , 00\n",
      "\n",
      "\n",
      "Next sentence is\n",
      "\n",
      "\n",
      "1 . 04 QK5 . 31112A IV 04 \n",
      " m2 0 , 00 0 , 00 \n",
      " Sjaktvegg \n",
      " Komplett \n",
      " 12 . 24 . 1 . 05 m2 510 , 00 0 , 00\n",
      "\n",
      "\n",
      "Next sentence is\n",
      "\n",
      "\n",
      "41 \n",
      " Side 1 av 6 \n",
      " PEAB AS \n",
      " Kapittel 12 TØMRERARBEIDER \n",
      " Post Beskrivelse Enh . Mengde | Enhetspris \n",
      " Sum \n",
      " 12 . 24 . 1 \n",
      " INNERVEGG - TYPE IV - 01 \n",
      " leilighetsskillevegg / Lydvegg tekniske rom \n",
      " INNERVEGG - TYPE IV - 01 \n",
      " leilighetsskillevegg / Korridorvegger \n",
      " For omfang og utførelse kfr . følgende : \n",
      " - Plantegninger \n",
      " - Snitt \n",
      " - Innledende tekst \n",
      " Brannkrav : - \n",
      " Lydkrav : - \n",
      " Veggen bygges opp som følger : \n",
      " - 2 x 13 mm gipsplate \n",
      " - 70 mm bindingsverk av stål \n",
      " - 45 mm isolasjon \n",
      " - 30 mm luftrom \n",
      " - 70 mm bindingsverk av stål \n",
      " - 45 mm isolasjon \n",
      " - 2 x 13 mm gipsplate \n",
      " - nødv . fugetetting \n",
      " Komplett , inkl . alle tilpasninger og tilslutninger mot \n",
      " tilstøtende \n",
      " konstruksjoner \n",
      " . \n",
      " 12 . 24 . 1 . 01 \n",
      " QK5 . 31112A IV 01 m2 \n",
      " m2 972 , 00 \n",
      " 0 , 00 0 , 00 \n",
      " 0 , 00 \n",
      " Komplett leilighetskillevegg . \n",
      " Brutto veggflate . \n",
      " 12 . 24 . 1 . 02 PJ3 . 132122911A IV 02 \n",
      " m2 1 409 , 00 0 , 00 \n",
      " 0 . 00 0 , 00 \n",
      " Komplett lettvegg . \n",
      " Brutto veggflate \n",
      " 12 . 24 . 1 . 03 SB1 . 11299 IV 03 \n",
      " m2 119 , 00 119 , 00 \n",
      " 0 , 00 0 , 00 \n",
      " 0 , 00 \n",
      " Pocetvegg \n",
      " Komplett brutto flate . \n",
      " 12 . 24 . 1 . 04 QK5 . 31112A IV 04 \n",
      " m2 556 , 00 0 , 00 \n",
      " 0 , 00 0 , 00 \n",
      " Sjaktvegg \n",
      " Komplett \n",
      " m2 510 , 00 0 , 00\n",
      "\n",
      "\n",
      "Next sentence is\n",
      "\n",
      "\n"
     ]
    }
   ],
   "source": [
    "for sentence in sentences_again:\n",
    "    print(sentence)\n",
    "    print(\"\\n\")\n",
    "    print(\"Next sentence is\")\n",
    "    print(\"\\n\")"
   ]
  },
  {
   "cell_type": "code",
   "execution_count": 392,
   "metadata": {},
   "outputs": [],
   "source": [
    "\n",
    "\n",
    "# def call_to_google_api(path):\n",
    "#     os.environ[\"GOOGLE_APPLICATION_CREDENTIALS\"]=\"Abibl.json\"\n",
    "#     credentials = GoogleCredentials.get_application_default()\n",
    "#     service = discovery.build('vision', 'v1', credentials=credentials)\n",
    "#     with open(path, 'rb') as image:\n",
    "#         image_content = base64.b64encode(image.read())\n",
    "#         service_request = service.images().annotate(body={\n",
    "#             'requests': [{\n",
    "#                 'image': {\n",
    "#                     'content': image_content.decode('UTF-8')\n",
    "#                 },\n",
    "#                 'features': [{\n",
    "#                     'type': 'DOCUMENT_TEXT_DETECTION',\n",
    "#                     'maxResults': 1\n",
    "#                 }]\n",
    "#             }]\n",
    "#         })\n",
    "#         response = service_request.execute()\n",
    "#         vertices = response['responses'][0]['textAnnotations'][1:]\n",
    "#         outfile = open(\"test.txt\", 'wb')\n",
    "#         outfile.write(json.dumps(response['responses'][0]['textAnnotations'][1:]).replace('u\\'','\\'').encode('utf-8'))\n",
    "#         return vertices"
   ]
  },
  {
   "cell_type": "code",
   "execution_count": null,
   "metadata": {},
   "outputs": [],
   "source": []
  }
 ],
 "metadata": {
  "kernelspec": {
   "display_name": "dlaas",
   "language": "python",
   "name": "dlaas"
  },
  "language_info": {
   "codemirror_mode": {
    "name": "ipython",
    "version": 3
   },
   "file_extension": ".py",
   "mimetype": "text/x-python",
   "name": "python",
   "nbconvert_exporter": "python",
   "pygments_lexer": "ipython3",
   "version": "3.5.2"
  }
 },
 "nbformat": 4,
 "nbformat_minor": 2
}
